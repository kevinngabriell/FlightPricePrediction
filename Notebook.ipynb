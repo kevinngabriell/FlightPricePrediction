{
 "cells": [
  {
   "cell_type": "markdown",
   "metadata": {},
   "source": [
    "# Flight Price Prediction Project"
   ]
  },
  {
   "cell_type": "markdown",
   "metadata": {},
   "source": [
    "Group 4 \n",
    "1. Hansen Thadeus Wijaya (00000043037)\n",
    "2. Kevin Gabriel (00000043270)\n",
    "3. Ryan Gunawan (00000043095)"
   ]
  },
  {
   "cell_type": "markdown",
   "metadata": {
    "id": "l3duxiXGPaaZ"
   },
   "source": [
    "# Import & Data Information"
   ]
  },
  {
   "cell_type": "code",
   "execution_count": 1,
   "metadata": {
    "id": "ryVVCSmrBkTP"
   },
   "outputs": [],
   "source": [
    "#Proses import library yang akan digunakan\n",
    "\n",
    "import matplotlib.pyplot as plt\n",
    "import pandas as pd\n",
    "import pylab as pl\n",
    "import numpy as np\n",
    "import seaborn as sns\n",
    "%matplotlib inline"
   ]
  },
  {
   "cell_type": "code",
   "execution_count": 2,
   "metadata": {
    "id": "_0Q5rswOCg1D"
   },
   "outputs": [
    {
     "data": {
      "text/html": [
       "<div>\n",
       "<style scoped>\n",
       "    .dataframe tbody tr th:only-of-type {\n",
       "        vertical-align: middle;\n",
       "    }\n",
       "\n",
       "    .dataframe tbody tr th {\n",
       "        vertical-align: top;\n",
       "    }\n",
       "\n",
       "    .dataframe thead th {\n",
       "        text-align: right;\n",
       "    }\n",
       "</style>\n",
       "<table border=\"1\" class=\"dataframe\">\n",
       "  <thead>\n",
       "    <tr style=\"text-align: right;\">\n",
       "      <th></th>\n",
       "      <th>Unnamed: 0</th>\n",
       "      <th>airline</th>\n",
       "      <th>flight</th>\n",
       "      <th>source_city</th>\n",
       "      <th>departure_time</th>\n",
       "      <th>stops</th>\n",
       "      <th>arrival_time</th>\n",
       "      <th>destination_city</th>\n",
       "      <th>class</th>\n",
       "      <th>duration</th>\n",
       "      <th>days_left</th>\n",
       "      <th>price</th>\n",
       "    </tr>\n",
       "  </thead>\n",
       "  <tbody>\n",
       "    <tr>\n",
       "      <th>0</th>\n",
       "      <td>0</td>\n",
       "      <td>SpiceJet</td>\n",
       "      <td>SG-8709</td>\n",
       "      <td>Delhi</td>\n",
       "      <td>Evening</td>\n",
       "      <td>zero</td>\n",
       "      <td>Night</td>\n",
       "      <td>Mumbai</td>\n",
       "      <td>Economy</td>\n",
       "      <td>2.17</td>\n",
       "      <td>1</td>\n",
       "      <td>5953</td>\n",
       "    </tr>\n",
       "    <tr>\n",
       "      <th>1</th>\n",
       "      <td>1</td>\n",
       "      <td>SpiceJet</td>\n",
       "      <td>SG-8157</td>\n",
       "      <td>Delhi</td>\n",
       "      <td>Early_Morning</td>\n",
       "      <td>zero</td>\n",
       "      <td>Morning</td>\n",
       "      <td>Mumbai</td>\n",
       "      <td>Economy</td>\n",
       "      <td>2.33</td>\n",
       "      <td>1</td>\n",
       "      <td>5953</td>\n",
       "    </tr>\n",
       "    <tr>\n",
       "      <th>2</th>\n",
       "      <td>2</td>\n",
       "      <td>AirAsia</td>\n",
       "      <td>I5-764</td>\n",
       "      <td>Delhi</td>\n",
       "      <td>Early_Morning</td>\n",
       "      <td>zero</td>\n",
       "      <td>Early_Morning</td>\n",
       "      <td>Mumbai</td>\n",
       "      <td>Economy</td>\n",
       "      <td>2.17</td>\n",
       "      <td>1</td>\n",
       "      <td>5956</td>\n",
       "    </tr>\n",
       "    <tr>\n",
       "      <th>3</th>\n",
       "      <td>3</td>\n",
       "      <td>Vistara</td>\n",
       "      <td>UK-995</td>\n",
       "      <td>Delhi</td>\n",
       "      <td>Morning</td>\n",
       "      <td>zero</td>\n",
       "      <td>Afternoon</td>\n",
       "      <td>Mumbai</td>\n",
       "      <td>Economy</td>\n",
       "      <td>2.25</td>\n",
       "      <td>1</td>\n",
       "      <td>5955</td>\n",
       "    </tr>\n",
       "    <tr>\n",
       "      <th>4</th>\n",
       "      <td>4</td>\n",
       "      <td>Vistara</td>\n",
       "      <td>UK-963</td>\n",
       "      <td>Delhi</td>\n",
       "      <td>Morning</td>\n",
       "      <td>zero</td>\n",
       "      <td>Morning</td>\n",
       "      <td>Mumbai</td>\n",
       "      <td>Economy</td>\n",
       "      <td>2.33</td>\n",
       "      <td>1</td>\n",
       "      <td>5955</td>\n",
       "    </tr>\n",
       "    <tr>\n",
       "      <th>...</th>\n",
       "      <td>...</td>\n",
       "      <td>...</td>\n",
       "      <td>...</td>\n",
       "      <td>...</td>\n",
       "      <td>...</td>\n",
       "      <td>...</td>\n",
       "      <td>...</td>\n",
       "      <td>...</td>\n",
       "      <td>...</td>\n",
       "      <td>...</td>\n",
       "      <td>...</td>\n",
       "      <td>...</td>\n",
       "    </tr>\n",
       "    <tr>\n",
       "      <th>300148</th>\n",
       "      <td>300148</td>\n",
       "      <td>Vistara</td>\n",
       "      <td>UK-822</td>\n",
       "      <td>Chennai</td>\n",
       "      <td>Morning</td>\n",
       "      <td>one</td>\n",
       "      <td>Evening</td>\n",
       "      <td>Hyderabad</td>\n",
       "      <td>Business</td>\n",
       "      <td>10.08</td>\n",
       "      <td>49</td>\n",
       "      <td>69265</td>\n",
       "    </tr>\n",
       "    <tr>\n",
       "      <th>300149</th>\n",
       "      <td>300149</td>\n",
       "      <td>Vistara</td>\n",
       "      <td>UK-826</td>\n",
       "      <td>Chennai</td>\n",
       "      <td>Afternoon</td>\n",
       "      <td>one</td>\n",
       "      <td>Night</td>\n",
       "      <td>Hyderabad</td>\n",
       "      <td>Business</td>\n",
       "      <td>10.42</td>\n",
       "      <td>49</td>\n",
       "      <td>77105</td>\n",
       "    </tr>\n",
       "    <tr>\n",
       "      <th>300150</th>\n",
       "      <td>300150</td>\n",
       "      <td>Vistara</td>\n",
       "      <td>UK-832</td>\n",
       "      <td>Chennai</td>\n",
       "      <td>Early_Morning</td>\n",
       "      <td>one</td>\n",
       "      <td>Night</td>\n",
       "      <td>Hyderabad</td>\n",
       "      <td>Business</td>\n",
       "      <td>13.83</td>\n",
       "      <td>49</td>\n",
       "      <td>79099</td>\n",
       "    </tr>\n",
       "    <tr>\n",
       "      <th>300151</th>\n",
       "      <td>300151</td>\n",
       "      <td>Vistara</td>\n",
       "      <td>UK-828</td>\n",
       "      <td>Chennai</td>\n",
       "      <td>Early_Morning</td>\n",
       "      <td>one</td>\n",
       "      <td>Evening</td>\n",
       "      <td>Hyderabad</td>\n",
       "      <td>Business</td>\n",
       "      <td>10.00</td>\n",
       "      <td>49</td>\n",
       "      <td>81585</td>\n",
       "    </tr>\n",
       "    <tr>\n",
       "      <th>300152</th>\n",
       "      <td>300152</td>\n",
       "      <td>Vistara</td>\n",
       "      <td>UK-822</td>\n",
       "      <td>Chennai</td>\n",
       "      <td>Morning</td>\n",
       "      <td>one</td>\n",
       "      <td>Evening</td>\n",
       "      <td>Hyderabad</td>\n",
       "      <td>Business</td>\n",
       "      <td>10.08</td>\n",
       "      <td>49</td>\n",
       "      <td>81585</td>\n",
       "    </tr>\n",
       "  </tbody>\n",
       "</table>\n",
       "<p>300153 rows × 12 columns</p>\n",
       "</div>"
      ],
      "text/plain": [
       "        Unnamed: 0   airline   flight source_city departure_time stops  \\\n",
       "0                0  SpiceJet  SG-8709       Delhi        Evening  zero   \n",
       "1                1  SpiceJet  SG-8157       Delhi  Early_Morning  zero   \n",
       "2                2   AirAsia   I5-764       Delhi  Early_Morning  zero   \n",
       "3                3   Vistara   UK-995       Delhi        Morning  zero   \n",
       "4                4   Vistara   UK-963       Delhi        Morning  zero   \n",
       "...            ...       ...      ...         ...            ...   ...   \n",
       "300148      300148   Vistara   UK-822     Chennai        Morning   one   \n",
       "300149      300149   Vistara   UK-826     Chennai      Afternoon   one   \n",
       "300150      300150   Vistara   UK-832     Chennai  Early_Morning   one   \n",
       "300151      300151   Vistara   UK-828     Chennai  Early_Morning   one   \n",
       "300152      300152   Vistara   UK-822     Chennai        Morning   one   \n",
       "\n",
       "         arrival_time destination_city     class  duration  days_left  price  \n",
       "0               Night           Mumbai   Economy      2.17          1   5953  \n",
       "1             Morning           Mumbai   Economy      2.33          1   5953  \n",
       "2       Early_Morning           Mumbai   Economy      2.17          1   5956  \n",
       "3           Afternoon           Mumbai   Economy      2.25          1   5955  \n",
       "4             Morning           Mumbai   Economy      2.33          1   5955  \n",
       "...               ...              ...       ...       ...        ...    ...  \n",
       "300148        Evening        Hyderabad  Business     10.08         49  69265  \n",
       "300149          Night        Hyderabad  Business     10.42         49  77105  \n",
       "300150          Night        Hyderabad  Business     13.83         49  79099  \n",
       "300151        Evening        Hyderabad  Business     10.00         49  81585  \n",
       "300152        Evening        Hyderabad  Business     10.08         49  81585  \n",
       "\n",
       "[300153 rows x 12 columns]"
      ]
     },
     "execution_count": 2,
     "metadata": {},
     "output_type": "execute_result"
    }
   ],
   "source": [
    "#Proses import data \n",
    "dfprice = pd.read_csv(\"FlightPrice.csv\")\n",
    "\n",
    "dfprice"
   ]
  },
  {
   "cell_type": "code",
   "execution_count": 3,
   "metadata": {
    "id": "DGsuFOZQCi-8"
   },
   "outputs": [
    {
     "name": "stdout",
     "output_type": "stream",
     "text": [
      "<class 'pandas.core.frame.DataFrame'>\n",
      "RangeIndex: 300153 entries, 0 to 300152\n",
      "Data columns (total 12 columns):\n",
      " #   Column            Non-Null Count   Dtype  \n",
      "---  ------            --------------   -----  \n",
      " 0   Unnamed: 0        300153 non-null  int64  \n",
      " 1   airline           300153 non-null  object \n",
      " 2   flight            300153 non-null  object \n",
      " 3   source_city       300153 non-null  object \n",
      " 4   departure_time    300153 non-null  object \n",
      " 5   stops             300153 non-null  object \n",
      " 6   arrival_time      300153 non-null  object \n",
      " 7   destination_city  300153 non-null  object \n",
      " 8   class             300153 non-null  object \n",
      " 9   duration          300153 non-null  float64\n",
      " 10  days_left         300153 non-null  int64  \n",
      " 11  price             300153 non-null  int64  \n",
      "dtypes: float64(1), int64(3), object(8)\n",
      "memory usage: 27.5+ MB\n"
     ]
    }
   ],
   "source": [
    "#Menghapus column unnamed \n",
    "dfprice.drop(['Unnamed: 0'], axis = 1)\n",
    "\n",
    "#Mendapatkan info tipe data \n",
    "dfprice.info()"
   ]
  },
  {
   "cell_type": "code",
   "execution_count": 4,
   "metadata": {
    "id": "aNgVUKnvDLys"
   },
   "outputs": [
    {
     "data": {
      "text/html": [
       "<div>\n",
       "<style scoped>\n",
       "    .dataframe tbody tr th:only-of-type {\n",
       "        vertical-align: middle;\n",
       "    }\n",
       "\n",
       "    .dataframe tbody tr th {\n",
       "        vertical-align: top;\n",
       "    }\n",
       "\n",
       "    .dataframe thead th {\n",
       "        text-align: right;\n",
       "    }\n",
       "</style>\n",
       "<table border=\"1\" class=\"dataframe\">\n",
       "  <thead>\n",
       "    <tr style=\"text-align: right;\">\n",
       "      <th></th>\n",
       "      <th>Unnamed: 0</th>\n",
       "      <th>duration</th>\n",
       "      <th>days_left</th>\n",
       "      <th>price</th>\n",
       "    </tr>\n",
       "  </thead>\n",
       "  <tbody>\n",
       "    <tr>\n",
       "      <th>count</th>\n",
       "      <td>300153.000000</td>\n",
       "      <td>300153.000000</td>\n",
       "      <td>300153.000000</td>\n",
       "      <td>300153.000000</td>\n",
       "    </tr>\n",
       "    <tr>\n",
       "      <th>mean</th>\n",
       "      <td>150076.000000</td>\n",
       "      <td>12.221021</td>\n",
       "      <td>26.004751</td>\n",
       "      <td>20889.660523</td>\n",
       "    </tr>\n",
       "    <tr>\n",
       "      <th>std</th>\n",
       "      <td>86646.852011</td>\n",
       "      <td>7.191997</td>\n",
       "      <td>13.561004</td>\n",
       "      <td>22697.767366</td>\n",
       "    </tr>\n",
       "    <tr>\n",
       "      <th>min</th>\n",
       "      <td>0.000000</td>\n",
       "      <td>0.830000</td>\n",
       "      <td>1.000000</td>\n",
       "      <td>1105.000000</td>\n",
       "    </tr>\n",
       "    <tr>\n",
       "      <th>25%</th>\n",
       "      <td>75038.000000</td>\n",
       "      <td>6.830000</td>\n",
       "      <td>15.000000</td>\n",
       "      <td>4783.000000</td>\n",
       "    </tr>\n",
       "    <tr>\n",
       "      <th>50%</th>\n",
       "      <td>150076.000000</td>\n",
       "      <td>11.250000</td>\n",
       "      <td>26.000000</td>\n",
       "      <td>7425.000000</td>\n",
       "    </tr>\n",
       "    <tr>\n",
       "      <th>75%</th>\n",
       "      <td>225114.000000</td>\n",
       "      <td>16.170000</td>\n",
       "      <td>38.000000</td>\n",
       "      <td>42521.000000</td>\n",
       "    </tr>\n",
       "    <tr>\n",
       "      <th>max</th>\n",
       "      <td>300152.000000</td>\n",
       "      <td>49.830000</td>\n",
       "      <td>49.000000</td>\n",
       "      <td>123071.000000</td>\n",
       "    </tr>\n",
       "  </tbody>\n",
       "</table>\n",
       "</div>"
      ],
      "text/plain": [
       "          Unnamed: 0       duration      days_left          price\n",
       "count  300153.000000  300153.000000  300153.000000  300153.000000\n",
       "mean   150076.000000      12.221021      26.004751   20889.660523\n",
       "std     86646.852011       7.191997      13.561004   22697.767366\n",
       "min         0.000000       0.830000       1.000000    1105.000000\n",
       "25%     75038.000000       6.830000      15.000000    4783.000000\n",
       "50%    150076.000000      11.250000      26.000000    7425.000000\n",
       "75%    225114.000000      16.170000      38.000000   42521.000000\n",
       "max    300152.000000      49.830000      49.000000  123071.000000"
      ]
     },
     "execution_count": 4,
     "metadata": {},
     "output_type": "execute_result"
    }
   ],
   "source": [
    "#Membuat statistik data \n",
    "dfprice.describe()"
   ]
  },
  {
   "cell_type": "code",
   "execution_count": 5,
   "metadata": {
    "id": "Acoj32qvDNDP"
   },
   "outputs": [
    {
     "data": {
      "text/html": [
       "<div>\n",
       "<style scoped>\n",
       "    .dataframe tbody tr th:only-of-type {\n",
       "        vertical-align: middle;\n",
       "    }\n",
       "\n",
       "    .dataframe tbody tr th {\n",
       "        vertical-align: top;\n",
       "    }\n",
       "\n",
       "    .dataframe thead th {\n",
       "        text-align: right;\n",
       "    }\n",
       "</style>\n",
       "<table border=\"1\" class=\"dataframe\">\n",
       "  <thead>\n",
       "    <tr style=\"text-align: right;\">\n",
       "      <th></th>\n",
       "      <th>Unnamed: 0</th>\n",
       "      <th>duration</th>\n",
       "      <th>days_left</th>\n",
       "      <th>price</th>\n",
       "    </tr>\n",
       "  </thead>\n",
       "  <tbody>\n",
       "    <tr>\n",
       "      <th>Unnamed: 0</th>\n",
       "      <td>1.000000</td>\n",
       "      <td>0.159007</td>\n",
       "      <td>0.014638</td>\n",
       "      <td>0.761177</td>\n",
       "    </tr>\n",
       "    <tr>\n",
       "      <th>duration</th>\n",
       "      <td>0.159007</td>\n",
       "      <td>1.000000</td>\n",
       "      <td>-0.039157</td>\n",
       "      <td>0.204222</td>\n",
       "    </tr>\n",
       "    <tr>\n",
       "      <th>days_left</th>\n",
       "      <td>0.014638</td>\n",
       "      <td>-0.039157</td>\n",
       "      <td>1.000000</td>\n",
       "      <td>-0.091949</td>\n",
       "    </tr>\n",
       "    <tr>\n",
       "      <th>price</th>\n",
       "      <td>0.761177</td>\n",
       "      <td>0.204222</td>\n",
       "      <td>-0.091949</td>\n",
       "      <td>1.000000</td>\n",
       "    </tr>\n",
       "  </tbody>\n",
       "</table>\n",
       "</div>"
      ],
      "text/plain": [
       "            Unnamed: 0  duration  days_left     price\n",
       "Unnamed: 0    1.000000  0.159007   0.014638  0.761177\n",
       "duration      0.159007  1.000000  -0.039157  0.204222\n",
       "days_left     0.014638 -0.039157   1.000000 -0.091949\n",
       "price         0.761177  0.204222  -0.091949  1.000000"
      ]
     },
     "execution_count": 5,
     "metadata": {},
     "output_type": "execute_result"
    }
   ],
   "source": [
    "#Membuat Korelasi Data\n",
    "dfprice.corr()"
   ]
  },
  {
   "cell_type": "code",
   "execution_count": 6,
   "metadata": {
    "id": "kBum9QzzDROH"
   },
   "outputs": [
    {
     "data": {
      "text/plain": [
       "(300153, 12)"
      ]
     },
     "execution_count": 6,
     "metadata": {},
     "output_type": "execute_result"
    }
   ],
   "source": [
    "#Menghitung jumlah baris dan kolom\n",
    "dfprice.shape"
   ]
  },
  {
   "cell_type": "code",
   "execution_count": 7,
   "metadata": {
    "id": "apr7nT5DDTly"
   },
   "outputs": [
    {
     "data": {
      "text/plain": [
       "Indigo       704\n",
       "Air_India    218\n",
       "GO_FIRST     205\n",
       "SpiceJet     186\n",
       "Vistara      133\n",
       "AirAsia      115\n",
       "Name: airline, dtype: int64"
      ]
     },
     "execution_count": 7,
     "metadata": {},
     "output_type": "execute_result"
    }
   ],
   "source": [
    "#Mengelompokkan berdasarkan maskapai dan jumlah penerbangan\n",
    "df_grouped = dfprice.groupby(['flight', 'airline'], as_index = False).count()\n",
    "df_grouped.airline.value_counts()"
   ]
  },
  {
   "cell_type": "markdown",
   "metadata": {
    "id": "3uZ9UcMmPq8s"
   },
   "source": [
    "# Data Visualization"
   ]
  },
  {
   "cell_type": "code",
   "execution_count": 8,
   "metadata": {
    "id": "XfL5NHKMDXnp"
   },
   "outputs": [
    {
     "data": {
      "image/png": "[encoded data removed]",
      "text/plain": [
       "<Figure size 576x360 with 1 Axes>"
      ]
     },
     "metadata": {
      "needs_background": "light"
     },
     "output_type": "display_data"
    }
   ],
   "source": [
    "#Membuat visualisasi data jumlah penerbangan dengan maskapai\n",
    "plt.figure(figsize = (8, 5))\n",
    "sns.countplot(x = df_grouped.airline)\n",
    "plt.title('Jumlah Penerbangan Berdasarkan Maskapai')\n",
    "plt.xlabel(\"Maskapai\")\n",
    "plt.ylabel(\"Jumlah Penerbangan\")\n",
    "plt.show();"
   ]
  },
  {
   "cell_type": "code",
   "execution_count": 9,
   "metadata": {
    "id": "5Ev2I9LJDYts"
   },
   "outputs": [
    {
     "data": {
      "image/png": "[encoded data removed]",
      "text/plain": [
       "<Figure size 576x360 with 1 Axes>"
      ]
     },
     "metadata": {},
     "output_type": "display_data"
    }
   ],
   "source": [
    "#Membuat visualisasi data kelas penerbangan dengan jumlah penerbangan\n",
    "df_grouped2 = dfprice.groupby(['flight', 'airline','class'], as_index = False).count()\n",
    "df_grouped2['class'].value_counts()\n",
    "\n",
    "plt.figure(figsize = (8,5))\n",
    "df_grouped2['class'].value_counts().plot(kind = 'pie', autopct = \"%.2f\")\n",
    "plt.legend(['Kelas Ekonomi','Kelas Bisnis'])\n",
    "plt.show()"
   ]
  },
  {
   "cell_type": "code",
   "execution_count": 10,
   "metadata": {
    "id": "Oky4xMyXDbM2"
   },
   "outputs": [
    {
     "data": {
      "image/png": "[encoded data removed]",
      "text/plain": [
       "<Figure size 576x360 with 1 Axes>"
      ]
     },
     "metadata": {
      "needs_background": "light"
     },
     "output_type": "display_data"
    }
   ],
   "source": [
    "#Membuat BoxPlot hubungan maskapai dengan harga tiket\n",
    "plt.figure(figsize = (8,5))\n",
    "sns.boxplot(data=dfprice, x=\"airline\", y=\"price\")\n",
    "plt.title(\"Hubungan Maskapai dan Harga\")\n",
    "plt.show()"
   ]
  },
  {
   "cell_type": "code",
   "execution_count": 11,
   "metadata": {
    "id": "JyE8GOS7DeRX"
   },
   "outputs": [
    {
     "data": {
      "image/png": "[encoded data removed]",
      "text/plain": [
       "<Figure size 576x360 with 1 Axes>"
      ]
     },
     "metadata": {
      "needs_background": "light"
     },
     "output_type": "display_data"
    }
   ],
   "source": [
    "#Membuat BoxPlot hubungan kelas penerbangan dengan harga tiket\n",
    "plt.figure(figsize = (8,5))\n",
    "sns.boxplot(data=dfprice, x=\"class\", y=\"price\")\n",
    "plt.title(\"Hubungan Kelas dan Harga\")\n",
    "plt.show()"
   ]
  },
  {
   "cell_type": "code",
   "execution_count": 12,
   "metadata": {
    "id": "gLpM1I_oDgFD"
   },
   "outputs": [
    {
     "data": {
      "image/png": "[encoded data removed]",
      "text/plain": [
       "<Figure size 576x360 with 1 Axes>"
      ]
     },
     "metadata": {
      "needs_background": "light"
     },
     "output_type": "display_data"
    }
   ],
   "source": [
    "#Membuat BoxPlot hubungan jumlah transit dengan harga tiket\n",
    "plt.figure(figsize = (8,5))\n",
    "sns.boxplot(data=dfprice, x=\"stops\", y=\"price\")\n",
    "plt.title(\"Hubungan Jumlah Transit dan Harga Tiket\")\n",
    "plt.show()"
   ]
  },
  {
   "cell_type": "code",
   "execution_count": 13,
   "metadata": {
    "id": "_ZlEu3utDiCR"
   },
   "outputs": [
    {
     "data": {
      "image/png": "[encoded data removed]",
      "text/plain": [
       "<Figure size 1728x720 with 2 Axes>"
      ]
     },
     "metadata": {
      "needs_background": "light"
     },
     "output_type": "display_data"
    }
   ],
   "source": [
    "#Membuat BoxPlot hubungan waktu kedatangan dengan harga tiket dan waktu keberangkatan dengan harga\n",
    "plt.figure(figsize = (24,10))\n",
    "plt.subplot(1,2,1)\n",
    "sns.boxplot(data=dfprice, x=\"arrival_time\", y=\"price\")\n",
    "plt.title(\"Hubungan Waktu Kedatangan dengan Harga\")\n",
    "plt.subplot(1,2,2)\n",
    "sns.boxplot(data=dfprice, x=\"departure_time\", y=\"price\")\n",
    "plt.title(\"Hubungan Waktu Keberangkatan dengan Harga\")\n",
    "plt.show()"
   ]
  },
  {
   "cell_type": "code",
   "execution_count": 14,
   "metadata": {
    "id": "rmEENmJ5DkYs"
   },
   "outputs": [
    {
     "data": {
      "image/png": "[encoded data removed]",
      "text/plain": [
       "<Figure size 1728x720 with 2 Axes>"
      ]
     },
     "metadata": {
      "needs_background": "light"
     },
     "output_type": "display_data"
    }
   ],
   "source": [
    "#Membuat BoxPlot hubungan kota keberangkatan dengan harga tiket dan kota kedatangan dengan harga\n",
    "plt.figure(figsize = (24,10))\n",
    "plt.subplot(1,2,1)\n",
    "sns.boxplot(data=dfprice, x=\"source_city\", y=\"price\")\n",
    "plt.title(\"Hubungan Kota Keberangkatan dengan Harga\")\n",
    "plt.subplot(1,2,2)\n",
    "sns.boxplot(data=dfprice, x=\"destination_city\", y=\"price\")\n",
    "plt.title(\"Hubungan Kota Kedatangan dengan Harga\")\n",
    "plt.show()"
   ]
  },
  {
   "cell_type": "code",
   "execution_count": 15,
   "metadata": {
    "id": "4lBSz0E3Dm-T"
   },
   "outputs": [
    {
     "data": {
      "text/html": [
       "<div>\n",
       "<style scoped>\n",
       "    .dataframe tbody tr th:only-of-type {\n",
       "        vertical-align: middle;\n",
       "    }\n",
       "\n",
       "    .dataframe tbody tr th {\n",
       "        vertical-align: top;\n",
       "    }\n",
       "\n",
       "    .dataframe thead th {\n",
       "        text-align: right;\n",
       "    }\n",
       "</style>\n",
       "<table border=\"1\" class=\"dataframe\">\n",
       "  <thead>\n",
       "    <tr style=\"text-align: right;\">\n",
       "      <th></th>\n",
       "      <th>source_city</th>\n",
       "      <th>destination_city</th>\n",
       "      <th>flight</th>\n",
       "    </tr>\n",
       "  </thead>\n",
       "  <tbody>\n",
       "    <tr>\n",
       "      <th>0</th>\n",
       "      <td>Bangalore</td>\n",
       "      <td>Chennai</td>\n",
       "      <td>106</td>\n",
       "    </tr>\n",
       "    <tr>\n",
       "      <th>1</th>\n",
       "      <td>Bangalore</td>\n",
       "      <td>Delhi</td>\n",
       "      <td>227</td>\n",
       "    </tr>\n",
       "    <tr>\n",
       "      <th>2</th>\n",
       "      <td>Bangalore</td>\n",
       "      <td>Hyderabad</td>\n",
       "      <td>132</td>\n",
       "    </tr>\n",
       "    <tr>\n",
       "      <th>3</th>\n",
       "      <td>Bangalore</td>\n",
       "      <td>Kolkata</td>\n",
       "      <td>171</td>\n",
       "    </tr>\n",
       "    <tr>\n",
       "      <th>4</th>\n",
       "      <td>Bangalore</td>\n",
       "      <td>Mumbai</td>\n",
       "      <td>175</td>\n",
       "    </tr>\n",
       "    <tr>\n",
       "      <th>5</th>\n",
       "      <td>Chennai</td>\n",
       "      <td>Bangalore</td>\n",
       "      <td>69</td>\n",
       "    </tr>\n",
       "    <tr>\n",
       "      <th>6</th>\n",
       "      <td>Chennai</td>\n",
       "      <td>Delhi</td>\n",
       "      <td>105</td>\n",
       "    </tr>\n",
       "    <tr>\n",
       "      <th>7</th>\n",
       "      <td>Chennai</td>\n",
       "      <td>Hyderabad</td>\n",
       "      <td>82</td>\n",
       "    </tr>\n",
       "    <tr>\n",
       "      <th>8</th>\n",
       "      <td>Chennai</td>\n",
       "      <td>Kolkata</td>\n",
       "      <td>110</td>\n",
       "    </tr>\n",
       "    <tr>\n",
       "      <th>9</th>\n",
       "      <td>Chennai</td>\n",
       "      <td>Mumbai</td>\n",
       "      <td>94</td>\n",
       "    </tr>\n",
       "  </tbody>\n",
       "</table>\n",
       "</div>"
      ],
      "text/plain": [
       "  source_city destination_city  flight\n",
       "0   Bangalore          Chennai     106\n",
       "1   Bangalore            Delhi     227\n",
       "2   Bangalore        Hyderabad     132\n",
       "3   Bangalore          Kolkata     171\n",
       "4   Bangalore           Mumbai     175\n",
       "5     Chennai        Bangalore      69\n",
       "6     Chennai            Delhi     105\n",
       "7     Chennai        Hyderabad      82\n",
       "8     Chennai          Kolkata     110\n",
       "9     Chennai           Mumbai      94"
      ]
     },
     "execution_count": 15,
     "metadata": {},
     "output_type": "execute_result"
    }
   ],
   "source": [
    "#Membuat visualisasi data hubungan source city, destination city, dan jumlah penerbangan\n",
    "dfprice.groupby(['flight','source_city','destination_city','airline','class'], as_index = False).count().groupby(['source_city','destination_city'], as_index = False)['flight'].count().head(10)"
   ]
  },
  {
   "cell_type": "markdown",
   "metadata": {
    "id": "bHk811vOP0uj"
   },
   "source": [
    "# F1 (All column included)"
   ]
  },
  {
   "cell_type": "code",
   "execution_count": 17,
   "metadata": {
    "id": "h9RnZgrdJFWI"
   },
   "outputs": [],
   "source": [
    "cols_dict = {'Model Name' : [],\n",
    "             'Mean_Absolute_Error_MAE' : [],\n",
    "             'Adj_R_Square' : [],\n",
    "             'Root_Mean_Squared_Error_RMSE' : [],\n",
    "             'Mean_Absolute_Percentage_Error_MAPE' : [],\n",
    "             'Mean_Squared_Error_MSE' : [],\n",
    "             'Root_Mean_Squared_Log_Error_RMSLE' : [],\n",
    "             'R2_Score' : []}\n",
    "results = pd.DataFrame(cols_dict)"
   ]
  },
  {
   "cell_type": "code",
   "execution_count": 18,
   "metadata": {
    "id": "RAKUMFP9Dq0m"
   },
   "outputs": [
    {
     "data": {
      "text/html": [
       "<div>\n",
       "<style scoped>\n",
       "    .dataframe tbody tr th:only-of-type {\n",
       "        vertical-align: middle;\n",
       "    }\n",
       "\n",
       "    .dataframe tbody tr th {\n",
       "        vertical-align: top;\n",
       "    }\n",
       "\n",
       "    .dataframe thead th {\n",
       "        text-align: right;\n",
       "    }\n",
       "</style>\n",
       "<table border=\"1\" class=\"dataframe\">\n",
       "  <thead>\n",
       "    <tr style=\"text-align: right;\">\n",
       "      <th></th>\n",
       "      <th>Unnamed: 0</th>\n",
       "      <th>airline</th>\n",
       "      <th>flight</th>\n",
       "      <th>source_city</th>\n",
       "      <th>departure_time</th>\n",
       "      <th>stops</th>\n",
       "      <th>arrival_time</th>\n",
       "      <th>destination_city</th>\n",
       "      <th>class</th>\n",
       "      <th>duration</th>\n",
       "      <th>days_left</th>\n",
       "      <th>price</th>\n",
       "    </tr>\n",
       "  </thead>\n",
       "  <tbody>\n",
       "    <tr>\n",
       "      <th>0</th>\n",
       "      <td>0</td>\n",
       "      <td>4</td>\n",
       "      <td>1408</td>\n",
       "      <td>2</td>\n",
       "      <td>2</td>\n",
       "      <td>2</td>\n",
       "      <td>5</td>\n",
       "      <td>5</td>\n",
       "      <td>1</td>\n",
       "      <td>2.17</td>\n",
       "      <td>1</td>\n",
       "      <td>5953</td>\n",
       "    </tr>\n",
       "    <tr>\n",
       "      <th>1</th>\n",
       "      <td>1</td>\n",
       "      <td>4</td>\n",
       "      <td>1387</td>\n",
       "      <td>2</td>\n",
       "      <td>1</td>\n",
       "      <td>2</td>\n",
       "      <td>4</td>\n",
       "      <td>5</td>\n",
       "      <td>1</td>\n",
       "      <td>2.33</td>\n",
       "      <td>1</td>\n",
       "      <td>5953</td>\n",
       "    </tr>\n",
       "    <tr>\n",
       "      <th>2</th>\n",
       "      <td>2</td>\n",
       "      <td>0</td>\n",
       "      <td>1213</td>\n",
       "      <td>2</td>\n",
       "      <td>1</td>\n",
       "      <td>2</td>\n",
       "      <td>1</td>\n",
       "      <td>5</td>\n",
       "      <td>1</td>\n",
       "      <td>2.17</td>\n",
       "      <td>1</td>\n",
       "      <td>5956</td>\n",
       "    </tr>\n",
       "    <tr>\n",
       "      <th>3</th>\n",
       "      <td>3</td>\n",
       "      <td>5</td>\n",
       "      <td>1559</td>\n",
       "      <td>2</td>\n",
       "      <td>4</td>\n",
       "      <td>2</td>\n",
       "      <td>0</td>\n",
       "      <td>5</td>\n",
       "      <td>1</td>\n",
       "      <td>2.25</td>\n",
       "      <td>1</td>\n",
       "      <td>5955</td>\n",
       "    </tr>\n",
       "    <tr>\n",
       "      <th>4</th>\n",
       "      <td>4</td>\n",
       "      <td>5</td>\n",
       "      <td>1549</td>\n",
       "      <td>2</td>\n",
       "      <td>4</td>\n",
       "      <td>2</td>\n",
       "      <td>4</td>\n",
       "      <td>5</td>\n",
       "      <td>1</td>\n",
       "      <td>2.33</td>\n",
       "      <td>1</td>\n",
       "      <td>5955</td>\n",
       "    </tr>\n",
       "  </tbody>\n",
       "</table>\n",
       "</div>"
      ],
      "text/plain": [
       "   Unnamed: 0  airline  flight  source_city  departure_time  stops  \\\n",
       "0           0        4    1408            2               2      2   \n",
       "1           1        4    1387            2               1      2   \n",
       "2           2        0    1213            2               1      2   \n",
       "3           3        5    1559            2               4      2   \n",
       "4           4        5    1549            2               4      2   \n",
       "\n",
       "   arrival_time  destination_city  class  duration  days_left  price  \n",
       "0             5                 5      1      2.17          1   5953  \n",
       "1             4                 5      1      2.33          1   5953  \n",
       "2             1                 5      1      2.17          1   5956  \n",
       "3             0                 5      1      2.25          1   5955  \n",
       "4             4                 5      1      2.33          1   5955  "
      ]
     },
     "execution_count": 18,
     "metadata": {},
     "output_type": "execute_result"
    }
   ],
   "source": [
    "dfbackup1 = dfprice.copy()\n",
    "\n",
    "from sklearn.preprocessing import LabelEncoder\n",
    "le = LabelEncoder()\n",
    "for col in dfbackup1.columns:\n",
    "    if dfbackup1[col].dtype == 'object':\n",
    "        dfbackup1[col] = le.fit_transform(dfbackup1[col])\n",
    "        \n",
    "dfbackup1.head()"
   ]
  },
  {
   "cell_type": "code",
   "execution_count": 19,
   "metadata": {
    "id": "DXLxA2vEGDWU"
   },
   "outputs": [],
   "source": [
    "x1 = dfbackup1.drop(['price'], axis = 1)\n",
    "y1 = dfbackup1['price']"
   ]
  },
  {
   "cell_type": "code",
   "execution_count": 20,
   "metadata": {
    "id": "Q0AWsMvcGpNu"
   },
   "outputs": [
    {
     "data": {
      "text/plain": [
       "((210107, 11), (210107,), (90046, 11), (90046,))"
      ]
     },
     "execution_count": 20,
     "metadata": {},
     "output_type": "execute_result"
    }
   ],
   "source": [
    "from sklearn.model_selection import train_test_split\n",
    "x1_train, x1_test, y1_train, y1_test = train_test_split(x1, y1, test_size = 0.30, random_state = 42)\n",
    "x1_train.shape, y1_train.shape, x1_test.shape, y1_test.shape"
   ]
  },
  {
   "cell_type": "code",
   "execution_count": 21,
   "metadata": {
    "id": "Q0DhFI9UHzvb"
   },
   "outputs": [],
   "source": [
    "from sklearn.preprocessing import MinMaxScaler\n",
    "mmscaler = MinMaxScaler(feature_range = (0, 1))\n",
    "x1_train = mmscaler.fit_transform(x1_train)\n",
    "x1_test = mmscaler.fit_transform(x1_test)\n",
    "x1_train = pd.DataFrame(x1_train)\n",
    "x1_test = pd.DataFrame(x1_test)"
   ]
  },
  {
   "cell_type": "code",
   "execution_count": 22,
   "metadata": {
    "id": "_NH2t3A-IpX6"
   },
   "outputs": [
    {
     "name": "stdout",
     "output_type": "stream",
     "text": [
      "Nama model LinearRegression()\n",
      "Mean Absolute Error (MAE):  4630.541\n",
      "Mean Squared Error (MSE):  49057844.123\n",
      "Root Mean Squared Error (RMSE):  7004.131\n",
      "R2 Score:  0.90468\n",
      "Root Mean Squared Log Error (RMSLE):  8.854\n",
      "Mean Absolute Percentage Error (MAPE):  43.89 %\n",
      "Adjusted R Square:  0.904677\n",
      "-------------------------------------------------------------------------\n"
     ]
    },
    {
     "name": "stderr",
     "output_type": "stream",
     "text": [
      "/var/folders/zn/s1_n07kn17g1_nt548vj1tp40000gn/T/ipykernel_46319/4161931367.py:49: FutureWarning: The frame.append method is deprecated and will be removed from pandas in a future version. Use pandas.concat instead.\n",
      "  results = results.append(new_row, ignore_index = True)\n"
     ]
    }
   ],
   "source": [
    "#Pembuatan model regresi\n",
    "from sklearn.linear_model import LinearRegression\n",
    "modelmlg = LinearRegression()\n",
    "\n",
    "# Evaluasi Matrix dari setiap model\n",
    "MM = [modelmlg]\n",
    "for model in MM:\n",
    "    \n",
    "    # fitting model\n",
    "    model.fit(x1_train, y1_train)\n",
    "    \n",
    "    # model prediksi dengan data testing\n",
    "    y1_pred = model.predict(x1_test)\n",
    "    \n",
    "    # print nama model\n",
    "    print('Nama model', model)\n",
    "    \n",
    "    # Metrics Evaluasi terhadap model yang digunakan\n",
    "    \n",
    "    from sklearn import metrics\n",
    "    print('Mean Absolute Error (MAE): ', round(metrics.mean_absolute_error(y1_test, y1_pred), 3))\n",
    "    print('Mean Squared Error (MSE): ', round(metrics.mean_squared_error(y1_test, y1_pred), 3))\n",
    "    print('Root Mean Squared Error (RMSE): ', round(np.sqrt(metrics.mean_squared_error(y1_test, y1_pred)), 3))\n",
    "    print('R2 Score: ', round(metrics.r2_score(y1_test, y1_pred), 5))\n",
    "    print('Root Mean Squared Log Error (RMSLE): ', round(np.log(np.sqrt(metrics.mean_squared_error(y1_test, y1_pred))), 3))\n",
    "    \n",
    "    # Fungsi untuk menghitung MAPE - Mean Absolute Percentage Error\n",
    "    def MAPE(y1_test, y1_pred):\n",
    "        y1_test, y1_pred = np.array(y1_test), np.array(y1_pred)\n",
    "        return np.mean(np.abs((y1_test - y1_pred) / y1_test)) * 100\n",
    "    \n",
    "    # EvaluasiMAPE\n",
    "    result = MAPE(y1_test, y1_pred)\n",
    "    print('Mean Absolute Percentage Error (MAPE): ', round(result, 2), '%')\n",
    "    \n",
    "    # Nilai R Squared values\n",
    "    r_squared = round(metrics.r2_score(y1_test, y1_pred), 6)\n",
    "    adjusted_r_squared = round(1-(1-r_squared)*(len(y1)-1) / (len(y1)-x1.shape[1]-1), 6)\n",
    "    print('Adjusted R Square: ', adjusted_r_squared)\n",
    "    print(\"-------------------------------------------------------------------------\")\n",
    "    new_row = {'Nama Model' : model,\n",
    "             'Mean_Absolute_Error_MAE' : metrics.mean_absolute_error(y1_test, y1_pred),\n",
    "             'Adj_R_Square' : adjusted_r_squared,\n",
    "             'Root_Mean_Squared_Error_RMSE' : np.sqrt(metrics.mean_squared_error(y1_test, y1_pred)),\n",
    "             'Mean_Absolute_Percentage_Error_MAPE' : MAPE(y1_test, y1_pred),\n",
    "             'Mean_Squared_Error_MSE' : metrics.mean_squared_error(y1_test, y1_pred),\n",
    "             'Root_Mean_Squared_Log_Error_RMSLE' : np.log(np.sqrt(metrics.mean_squared_error(y1_test, y1_pred))),\n",
    "             'R2_Score' : metrics.r2_score(y1_test, y1_pred)}\n",
    "    results = results.append(new_row, ignore_index = True)"
   ]
  },
  {
   "cell_type": "code",
   "execution_count": 23,
   "metadata": {
    "id": "LW_twMzAWUDV"
   },
   "outputs": [],
   "source": [
    "x1 = x1[[\"airline\", \"source_city\", \"departure_time\", \"stops\", 'arrival_time', \"destination_city\", \n",
    "       \"class\", 'days_left', 'duration']]\n",
    "X1_train, X1_test, y1_train, y1_test = train_test_split(x1, y1, test_size=0.20)\n",
    "from sklearn.preprocessing import MinMaxScaler\n",
    "mmscaler = MinMaxScaler(feature_range=(0,1))\n",
    "X1_train = mmscaler.fit_transform(X1_train)\n",
    "X1_test = mmscaler.fit_transform(X1_test)\n",
    "X1_train = pd.DataFrame(X1_train)\n",
    "X1_test = pd.DataFrame(X1_test) "
   ]
  },
  {
   "cell_type": "code",
   "execution_count": 24,
   "metadata": {
    "id": "K4tELAiGWg6O"
   },
   "outputs": [],
   "source": [
    "from sklearn import metrics\n",
    "def evaluate_model(y1_pred,y1_test):\n",
    "    print('Mean Absolute Error (MAE):', round(metrics.mean_absolute_error(y1_test, y1_pred),3))  \n",
    "    print('Root Mean Squared Error (RMSE):', round(np.sqrt(metrics.mean_squared_error(y1_test, y1_pred)),3))"
   ]
  },
  {
   "cell_type": "code",
   "execution_count": 25,
   "metadata": {
    "colab": {
     "background_save": true
    },
    "id": "2sL1wDg1WmDX"
   },
   "outputs": [
    {
     "name": "stdout",
     "output_type": "stream",
     "text": [
      "Mean Absolute Error (MAE): 2298.673\n",
      "Root Mean Squared Error (RMSE): 4639.801\n",
      "R2 Score:  0.9585794429584916\n"
     ]
    }
   ],
   "source": [
    "from sklearn.ensemble import RandomForestRegressor\n",
    "from sklearn.metrics import r2_score\n",
    "\n",
    "rf_reg = RandomForestRegressor()\n",
    "rf_reg.fit(X1_train,y1_train)\n",
    "y1_pred = rf_reg.predict(X1_test)\n",
    "evaluate_model(y1_pred,y1_test)\n",
    "print(\"R2 Score: \",r2_score(y1_test,y1_pred))"
   ]
  },
  {
   "cell_type": "markdown",
   "metadata": {
    "id": "OrRLukuLP_0-"
   },
   "source": [
    "# F2 (Stops column excluded)"
   ]
  },
  {
   "cell_type": "code",
   "execution_count": 26,
   "metadata": {
    "colab": {
     "background_save": true
    },
    "id": "raDyUocMD_v7"
   },
   "outputs": [
    {
     "data": {
      "text/html": [
       "<div>\n",
       "<style scoped>\n",
       "    .dataframe tbody tr th:only-of-type {\n",
       "        vertical-align: middle;\n",
       "    }\n",
       "\n",
       "    .dataframe tbody tr th {\n",
       "        vertical-align: top;\n",
       "    }\n",
       "\n",
       "    .dataframe thead th {\n",
       "        text-align: right;\n",
       "    }\n",
       "</style>\n",
       "<table border=\"1\" class=\"dataframe\">\n",
       "  <thead>\n",
       "    <tr style=\"text-align: right;\">\n",
       "      <th></th>\n",
       "      <th>Unnamed: 0</th>\n",
       "      <th>airline</th>\n",
       "      <th>flight</th>\n",
       "      <th>source_city</th>\n",
       "      <th>departure_time</th>\n",
       "      <th>arrival_time</th>\n",
       "      <th>destination_city</th>\n",
       "      <th>class</th>\n",
       "      <th>duration</th>\n",
       "      <th>days_left</th>\n",
       "      <th>price</th>\n",
       "    </tr>\n",
       "  </thead>\n",
       "  <tbody>\n",
       "    <tr>\n",
       "      <th>0</th>\n",
       "      <td>0</td>\n",
       "      <td>4</td>\n",
       "      <td>1408</td>\n",
       "      <td>2</td>\n",
       "      <td>2</td>\n",
       "      <td>5</td>\n",
       "      <td>5</td>\n",
       "      <td>1</td>\n",
       "      <td>2.17</td>\n",
       "      <td>1</td>\n",
       "      <td>5953</td>\n",
       "    </tr>\n",
       "    <tr>\n",
       "      <th>1</th>\n",
       "      <td>1</td>\n",
       "      <td>4</td>\n",
       "      <td>1387</td>\n",
       "      <td>2</td>\n",
       "      <td>1</td>\n",
       "      <td>4</td>\n",
       "      <td>5</td>\n",
       "      <td>1</td>\n",
       "      <td>2.33</td>\n",
       "      <td>1</td>\n",
       "      <td>5953</td>\n",
       "    </tr>\n",
       "    <tr>\n",
       "      <th>2</th>\n",
       "      <td>2</td>\n",
       "      <td>0</td>\n",
       "      <td>1213</td>\n",
       "      <td>2</td>\n",
       "      <td>1</td>\n",
       "      <td>1</td>\n",
       "      <td>5</td>\n",
       "      <td>1</td>\n",
       "      <td>2.17</td>\n",
       "      <td>1</td>\n",
       "      <td>5956</td>\n",
       "    </tr>\n",
       "    <tr>\n",
       "      <th>3</th>\n",
       "      <td>3</td>\n",
       "      <td>5</td>\n",
       "      <td>1559</td>\n",
       "      <td>2</td>\n",
       "      <td>4</td>\n",
       "      <td>0</td>\n",
       "      <td>5</td>\n",
       "      <td>1</td>\n",
       "      <td>2.25</td>\n",
       "      <td>1</td>\n",
       "      <td>5955</td>\n",
       "    </tr>\n",
       "    <tr>\n",
       "      <th>4</th>\n",
       "      <td>4</td>\n",
       "      <td>5</td>\n",
       "      <td>1549</td>\n",
       "      <td>2</td>\n",
       "      <td>4</td>\n",
       "      <td>4</td>\n",
       "      <td>5</td>\n",
       "      <td>1</td>\n",
       "      <td>2.33</td>\n",
       "      <td>1</td>\n",
       "      <td>5955</td>\n",
       "    </tr>\n",
       "  </tbody>\n",
       "</table>\n",
       "</div>"
      ],
      "text/plain": [
       "   Unnamed: 0  airline  flight  source_city  departure_time  arrival_time  \\\n",
       "0           0        4    1408            2               2             5   \n",
       "1           1        4    1387            2               1             4   \n",
       "2           2        0    1213            2               1             1   \n",
       "3           3        5    1559            2               4             0   \n",
       "4           4        5    1549            2               4             4   \n",
       "\n",
       "   destination_city  class  duration  days_left  price  \n",
       "0                 5      1      2.17          1   5953  \n",
       "1                 5      1      2.33          1   5953  \n",
       "2                 5      1      2.17          1   5956  \n",
       "3                 5      1      2.25          1   5955  \n",
       "4                 5      1      2.33          1   5955  "
      ]
     },
     "execution_count": 26,
     "metadata": {},
     "output_type": "execute_result"
    }
   ],
   "source": [
    "dfbackup2 = dfprice.copy()\n",
    "\n",
    "dfbackup2.drop(['stops'], axis = 1, inplace=True)\n",
    "\n",
    "from sklearn.preprocessing import LabelEncoder\n",
    "le = LabelEncoder()\n",
    "for col in dfbackup2.columns:\n",
    "    if dfbackup2[col].dtype == 'object':\n",
    "        dfbackup2[col] = le.fit_transform(dfbackup2[col])\n",
    "        \n",
    "dfbackup2.head()"
   ]
  },
  {
   "cell_type": "code",
   "execution_count": 27,
   "metadata": {
    "colab": {
     "background_save": true
    },
    "id": "btIAgGvWGPk1"
   },
   "outputs": [],
   "source": [
    "x2 = dfbackup2.drop(['price'], axis = 1)\n",
    "y2 = dfbackup2['price']"
   ]
  },
  {
   "cell_type": "code",
   "execution_count": 28,
   "metadata": {
    "colab": {
     "background_save": true
    },
    "id": "j-y2DED5G6MC"
   },
   "outputs": [
    {
     "data": {
      "text/plain": [
       "((210107, 10), (210107,), (90046, 10), (90046,))"
      ]
     },
     "execution_count": 28,
     "metadata": {},
     "output_type": "execute_result"
    }
   ],
   "source": [
    "from sklearn.model_selection import train_test_split\n",
    "x2_train, x2_test, y2_train, y2_test = train_test_split(x2, y2, test_size = 0.30, random_state = 42)\n",
    "x2_train.shape, y2_train.shape, x2_test.shape, y2_test.shape"
   ]
  },
  {
   "cell_type": "code",
   "execution_count": 29,
   "metadata": {
    "colab": {
     "background_save": true
    },
    "id": "x2K2WtrNH4uz"
   },
   "outputs": [],
   "source": [
    "from sklearn.preprocessing import MinMaxScaler\n",
    "mmscaler = MinMaxScaler(feature_range = (0, 1))\n",
    "x2_train = mmscaler.fit_transform(x2_train)\n",
    "x2_test = mmscaler.fit_transform(x2_test)\n",
    "x2_train = pd.DataFrame(x2_train)\n",
    "x2_test = pd.DataFrame(x2_test)"
   ]
  },
  {
   "cell_type": "code",
   "execution_count": 30,
   "metadata": {
    "colab": {
     "background_save": true
    },
    "id": "xdyYlfwwJK4O"
   },
   "outputs": [
    {
     "name": "stdout",
     "output_type": "stream",
     "text": [
      "Nama model LinearRegression()\n",
      "Mean Absolute Error (MAE):  4485.107\n",
      "Mean Squared Error (MSE):  52625320.61\n",
      "Root Mean Squared Error (RMSE):  7254.331\n",
      "R2 Score:  0.89775\n",
      "Root Mean Squared Log Error (RMSLE):  8.889\n",
      "Mean Absolute Percentage Error (MAPE):  35.37 %\n",
      "Adjusted R Square:  0.897746\n",
      "-------------------------------------------------------------------------\n"
     ]
    },
    {
     "name": "stderr",
     "output_type": "stream",
     "text": [
      "/var/folders/zn/s1_n07kn17g1_nt548vj1tp40000gn/T/ipykernel_46319/2700405951.py:49: FutureWarning: The frame.append method is deprecated and will be removed from pandas in a future version. Use pandas.concat instead.\n",
      "  results = results.append(new_row, ignore_index = True)\n"
     ]
    }
   ],
   "source": [
    "#Pembuatan model regresi\n",
    "from sklearn.linear_model import LinearRegression\n",
    "modelmlg = LinearRegression()\n",
    "\n",
    "# Evaluasi Matrix dari setiap model\n",
    "MM = [modelmlg]\n",
    "for model in MM:\n",
    "    \n",
    "    # fitting model\n",
    "    model.fit(x2_train, y2_train)\n",
    "    \n",
    "    # model prediksi dengan data testing\n",
    "    y2_pred = model.predict(x2_test)\n",
    "    \n",
    "    # print nama model\n",
    "    print('Nama model', model)\n",
    "    \n",
    "    # Metrics Evaluasi terhadap model yang digunakan\n",
    "    \n",
    "    from sklearn import metrics\n",
    "    print('Mean Absolute Error (MAE): ', round(metrics.mean_absolute_error(y2_test, y2_pred), 3))\n",
    "    print('Mean Squared Error (MSE): ', round(metrics.mean_squared_error(y2_test, y2_pred), 3))\n",
    "    print('Root Mean Squared Error (RMSE): ', round(np.sqrt(metrics.mean_squared_error(y2_test, y2_pred)), 3))\n",
    "    print('R2 Score: ', round(metrics.r2_score(y2_test, y2_pred), 5))\n",
    "    print('Root Mean Squared Log Error (RMSLE): ', round(np.log(np.sqrt(metrics.mean_squared_error(y2_test, y2_pred))), 3))\n",
    "    \n",
    "    # Fungsi untuk menghitung MAPE - Mean Absolute Percentage Error\n",
    "    def MAPE(y2_test, y2_pred):\n",
    "        y2_test, y2_pred = np.array(y2_test), np.array(y2_pred)\n",
    "        return np.mean(np.abs((y2_test - y2_pred) / y2_test)) * 100\n",
    "    \n",
    "    # EvaluasiMAPE\n",
    "    result = MAPE(y2_test, y2_pred)\n",
    "    print('Mean Absolute Percentage Error (MAPE): ', round(result, 2), '%')\n",
    "    \n",
    "    # Nilai R Squared values\n",
    "    r_squared = round(metrics.r2_score(y2_test, y2_pred), 6)\n",
    "    adjusted_r_squared = round(1-(1-r_squared)*(len(y2)-1) / (len(y2)-x2.shape[1]-1), 6)\n",
    "    print('Adjusted R Square: ', adjusted_r_squared)\n",
    "    print(\"-------------------------------------------------------------------------\")\n",
    "    new_row = {'Nama Model' : model,\n",
    "             'Mean_Absolute_Error_MAE' : metrics.mean_absolute_error(y2_test, y2_pred),\n",
    "             'Adj_R_Square' : adjusted_r_squared,\n",
    "             'Root_Mean_Squared_Error_RMSE' : np.sqrt(metrics.mean_squared_error(y2_test, y2_pred)),\n",
    "             'Mean_Absolute_Percentage_Error_MAPE' : MAPE(y2_test, y2_pred),\n",
    "             'Mean_Squared_Error_MSE' : metrics.mean_squared_error(y2_test, y2_pred),\n",
    "             'Root_Mean_Squared_Log_Error_RMSLE' : np.log(np.sqrt(metrics.mean_squared_error(y2_test, y2_pred))),\n",
    "             'R2_Score' : metrics.r2_score(y2_test, y2_pred)}\n",
    "    results = results.append(new_row, ignore_index = True)"
   ]
  },
  {
   "cell_type": "code",
   "execution_count": 31,
   "metadata": {
    "colab": {
     "background_save": true
    },
    "id": "9wkJuC1GXInL"
   },
   "outputs": [],
   "source": [
    "x2 = x2[[\"airline\", \"source_city\", \"departure_time\", 'arrival_time', \"destination_city\", \n",
    "       \"class\", 'days_left', 'duration']]\n",
    "X2_train, X2_test, y2_train, y2_test = train_test_split(x2, y2, test_size=0.20)\n",
    "from sklearn.preprocessing import MinMaxScaler\n",
    "mmscaler = MinMaxScaler(feature_range=(0,1))\n",
    "X2_train = mmscaler.fit_transform(X2_train)\n",
    "X2_test = mmscaler.fit_transform(X2_test)\n",
    "X2_train = pd.DataFrame(X2_train)\n",
    "X2_test = pd.DataFrame(X2_test) "
   ]
  },
  {
   "cell_type": "code",
   "execution_count": 32,
   "metadata": {
    "colab": {
     "background_save": true
    },
    "id": "nuv5OdTxXSgN"
   },
   "outputs": [
    {
     "name": "stdout",
     "output_type": "stream",
     "text": [
      "Mean Absolute Error (MAE): 2161.854\n",
      "Root Mean Squared Error (RMSE): 4455.05\n",
      "R2 Score:  0.961656562365467\n"
     ]
    }
   ],
   "source": [
    "from sklearn.ensemble import RandomForestRegressor\n",
    "from sklearn.metrics import r2_score\n",
    "\n",
    "rf_reg = RandomForestRegressor()\n",
    "rf_reg.fit(X2_train,y2_train)\n",
    "y2_pred = rf_reg.predict(X2_test)\n",
    "evaluate_model(y2_pred,y2_test)\n",
    "print(\"R2 Score: \",r2_score(y2_test,y2_pred))"
   ]
  },
  {
   "cell_type": "markdown",
   "metadata": {
    "id": "-vRUGHSATJBU"
   },
   "source": [
    "# F3 (Class column excluded)"
   ]
  },
  {
   "cell_type": "code",
   "execution_count": 33,
   "metadata": {
    "colab": {
     "background_save": true
    },
    "id": "tyem-nNEDz5q"
   },
   "outputs": [
    {
     "data": {
      "text/html": [
       "<div>\n",
       "<style scoped>\n",
       "    .dataframe tbody tr th:only-of-type {\n",
       "        vertical-align: middle;\n",
       "    }\n",
       "\n",
       "    .dataframe tbody tr th {\n",
       "        vertical-align: top;\n",
       "    }\n",
       "\n",
       "    .dataframe thead th {\n",
       "        text-align: right;\n",
       "    }\n",
       "</style>\n",
       "<table border=\"1\" class=\"dataframe\">\n",
       "  <thead>\n",
       "    <tr style=\"text-align: right;\">\n",
       "      <th></th>\n",
       "      <th>Unnamed: 0</th>\n",
       "      <th>airline</th>\n",
       "      <th>flight</th>\n",
       "      <th>source_city</th>\n",
       "      <th>departure_time</th>\n",
       "      <th>stops</th>\n",
       "      <th>arrival_time</th>\n",
       "      <th>destination_city</th>\n",
       "      <th>duration</th>\n",
       "      <th>days_left</th>\n",
       "      <th>price</th>\n",
       "    </tr>\n",
       "  </thead>\n",
       "  <tbody>\n",
       "    <tr>\n",
       "      <th>0</th>\n",
       "      <td>0</td>\n",
       "      <td>4</td>\n",
       "      <td>1408</td>\n",
       "      <td>2</td>\n",
       "      <td>2</td>\n",
       "      <td>2</td>\n",
       "      <td>5</td>\n",
       "      <td>5</td>\n",
       "      <td>2.17</td>\n",
       "      <td>1</td>\n",
       "      <td>5953</td>\n",
       "    </tr>\n",
       "    <tr>\n",
       "      <th>1</th>\n",
       "      <td>1</td>\n",
       "      <td>4</td>\n",
       "      <td>1387</td>\n",
       "      <td>2</td>\n",
       "      <td>1</td>\n",
       "      <td>2</td>\n",
       "      <td>4</td>\n",
       "      <td>5</td>\n",
       "      <td>2.33</td>\n",
       "      <td>1</td>\n",
       "      <td>5953</td>\n",
       "    </tr>\n",
       "    <tr>\n",
       "      <th>2</th>\n",
       "      <td>2</td>\n",
       "      <td>0</td>\n",
       "      <td>1213</td>\n",
       "      <td>2</td>\n",
       "      <td>1</td>\n",
       "      <td>2</td>\n",
       "      <td>1</td>\n",
       "      <td>5</td>\n",
       "      <td>2.17</td>\n",
       "      <td>1</td>\n",
       "      <td>5956</td>\n",
       "    </tr>\n",
       "    <tr>\n",
       "      <th>3</th>\n",
       "      <td>3</td>\n",
       "      <td>5</td>\n",
       "      <td>1559</td>\n",
       "      <td>2</td>\n",
       "      <td>4</td>\n",
       "      <td>2</td>\n",
       "      <td>0</td>\n",
       "      <td>5</td>\n",
       "      <td>2.25</td>\n",
       "      <td>1</td>\n",
       "      <td>5955</td>\n",
       "    </tr>\n",
       "    <tr>\n",
       "      <th>4</th>\n",
       "      <td>4</td>\n",
       "      <td>5</td>\n",
       "      <td>1549</td>\n",
       "      <td>2</td>\n",
       "      <td>4</td>\n",
       "      <td>2</td>\n",
       "      <td>4</td>\n",
       "      <td>5</td>\n",
       "      <td>2.33</td>\n",
       "      <td>1</td>\n",
       "      <td>5955</td>\n",
       "    </tr>\n",
       "  </tbody>\n",
       "</table>\n",
       "</div>"
      ],
      "text/plain": [
       "   Unnamed: 0  airline  flight  source_city  departure_time  stops  \\\n",
       "0           0        4    1408            2               2      2   \n",
       "1           1        4    1387            2               1      2   \n",
       "2           2        0    1213            2               1      2   \n",
       "3           3        5    1559            2               4      2   \n",
       "4           4        5    1549            2               4      2   \n",
       "\n",
       "   arrival_time  destination_city  duration  days_left  price  \n",
       "0             5                 5      2.17          1   5953  \n",
       "1             4                 5      2.33          1   5953  \n",
       "2             1                 5      2.17          1   5956  \n",
       "3             0                 5      2.25          1   5955  \n",
       "4             4                 5      2.33          1   5955  "
      ]
     },
     "execution_count": 33,
     "metadata": {},
     "output_type": "execute_result"
    }
   ],
   "source": [
    "dfbackup3 = dfprice.copy()\n",
    "\n",
    "dfbackup3.drop(['class'], axis = 1, inplace=True)\n",
    "\n",
    "from sklearn.preprocessing import LabelEncoder\n",
    "le = LabelEncoder()\n",
    "for col in dfbackup3.columns:\n",
    "    if dfbackup3[col].dtype == 'object':\n",
    "        dfbackup3[col] = le.fit_transform(dfbackup3[col])\n",
    "        \n",
    "dfbackup3.head()"
   ]
  },
  {
   "cell_type": "code",
   "execution_count": 34,
   "metadata": {
    "colab": {
     "background_save": true
    },
    "id": "eP_MSA7MGU6u"
   },
   "outputs": [],
   "source": [
    "x3 = dfbackup3.drop(['price'], axis = 1)\n",
    "y3 = dfbackup3['price']"
   ]
  },
  {
   "cell_type": "code",
   "execution_count": 35,
   "metadata": {
    "colab": {
     "background_save": true
    },
    "id": "RE-btWFjHEi4"
   },
   "outputs": [
    {
     "data": {
      "text/plain": [
       "((210107, 10), (210107,), (90046, 10), (90046,))"
      ]
     },
     "execution_count": 35,
     "metadata": {},
     "output_type": "execute_result"
    }
   ],
   "source": [
    "from sklearn.model_selection import train_test_split\n",
    "x3_train, x3_test, y3_train, y3_test = train_test_split(x3, y3, test_size = 0.30, random_state = 42)\n",
    "x3_train.shape, y3_train.shape, x3_test.shape, y3_test.shape"
   ]
  },
  {
   "cell_type": "code",
   "execution_count": 36,
   "metadata": {
    "colab": {
     "background_save": true
    },
    "id": "YttoXFRVH8qH"
   },
   "outputs": [],
   "source": [
    "from sklearn.preprocessing import MinMaxScaler\n",
    "mmscaler = MinMaxScaler(feature_range = (0, 1))\n",
    "x3_train = mmscaler.fit_transform(x3_train)\n",
    "x3_test = mmscaler.fit_transform(x3_test)\n",
    "x3_train = pd.DataFrame(x3_train)\n",
    "x3_test = pd.DataFrame(x3_test)"
   ]
  },
  {
   "cell_type": "code",
   "execution_count": 37,
   "metadata": {
    "colab": {
     "background_save": true
    },
    "id": "sPvMn2DOJ8wA"
   },
   "outputs": [
    {
     "name": "stdout",
     "output_type": "stream",
     "text": [
      "Nama model LinearRegression()\n",
      "Mean Absolute Error (MAE):  11371.47\n",
      "Mean Squared Error (MSE):  191807595.453\n",
      "Root Mean Squared Error (RMSE):  13849.462\n",
      "R2 Score:  0.62732\n",
      "Root Mean Squared Log Error (RMSLE):  9.536\n",
      "Mean Absolute Percentage Error (MAPE):  156.69 %\n",
      "Adjusted R Square:  0.627305\n",
      "-------------------------------------------------------------------------\n"
     ]
    },
    {
     "name": "stderr",
     "output_type": "stream",
     "text": [
      "/var/folders/zn/s1_n07kn17g1_nt548vj1tp40000gn/T/ipykernel_46319/1276591059.py:49: FutureWarning: The frame.append method is deprecated and will be removed from pandas in a future version. Use pandas.concat instead.\n",
      "  results = results.append(new_row, ignore_index = True)\n"
     ]
    }
   ],
   "source": [
    "#Pembuatan model regresi\n",
    "from sklearn.linear_model import LinearRegression\n",
    "modelmlg = LinearRegression()\n",
    "\n",
    "# Evaluasi Matrix dari setiap model\n",
    "MM = [modelmlg]\n",
    "for model in MM:\n",
    "    \n",
    "    # fitting model\n",
    "    model.fit(x3_train, y3_train)\n",
    "    \n",
    "    # model prediksi dengan data testing\n",
    "    y3_pred = model.predict(x3_test)\n",
    "    \n",
    "    # print nama model\n",
    "    print('Nama model', model)\n",
    "    \n",
    "    # Metrics Evaluasi terhadap model yang digunakan\n",
    "    \n",
    "    from sklearn import metrics\n",
    "    print('Mean Absolute Error (MAE): ', round(metrics.mean_absolute_error(y3_test, y3_pred), 3))\n",
    "    print('Mean Squared Error (MSE): ', round(metrics.mean_squared_error(y3_test, y3_pred), 3))\n",
    "    print('Root Mean Squared Error (RMSE): ', round(np.sqrt(metrics.mean_squared_error(y3_test, y3_pred)), 3))\n",
    "    print('R2 Score: ', round(metrics.r2_score(y3_test, y3_pred), 5))\n",
    "    print('Root Mean Squared Log Error (RMSLE): ', round(np.log(np.sqrt(metrics.mean_squared_error(y3_test, y3_pred))), 3))\n",
    "    \n",
    "    # Fungsi untuk menghitung MAPE - Mean Absolute Percentage Error\n",
    "    def MAPE(y3_test, y3_pred):\n",
    "        y3_test, y3_pred = np.array(y3_test), np.array(y3_pred)\n",
    "        return np.mean(np.abs((y3_test - y3_pred) / y3_test)) * 100\n",
    "    \n",
    "    # EvaluasiMAPE\n",
    "    result = MAPE(y3_test, y3_pred)\n",
    "    print('Mean Absolute Percentage Error (MAPE): ', round(result, 2), '%')\n",
    "    \n",
    "    # Nilai R Squared values\n",
    "    r_squared = round(metrics.r2_score(y3_test, y3_pred), 6)\n",
    "    adjusted_r_squared = round(1-(1-r_squared)*(len(y3)-1) / (len(y3)-x3.shape[1]-1), 6)\n",
    "    print('Adjusted R Square: ', adjusted_r_squared)\n",
    "    print(\"-------------------------------------------------------------------------\")\n",
    "    new_row = {'Nama Model' : model,\n",
    "             'Mean_Absolute_Error_MAE' : metrics.mean_absolute_error(y3_test, y3_pred),\n",
    "             'Adj_R_Square' : adjusted_r_squared,\n",
    "             'Root_Mean_Squared_Error_RMSE' : np.sqrt(metrics.mean_squared_error(y3_test, y3_pred)),\n",
    "             'Mean_Absolute_Percentage_Error_MAPE' : MAPE(y3_test, y3_pred),\n",
    "             'Mean_Squared_Error_MSE' : metrics.mean_squared_error(y3_test, y3_pred),\n",
    "             'Root_Mean_Squared_Log_Error_RMSLE' : np.log(np.sqrt(metrics.mean_squared_error(y3_test, y3_pred))),\n",
    "             'R2_Score' : metrics.r2_score(y3_test, y3_pred)}\n",
    "    results = results.append(new_row, ignore_index = True)"
   ]
  },
  {
   "cell_type": "code",
   "execution_count": 38,
   "metadata": {
    "colab": {
     "background_save": true
    },
    "id": "KZVMmxt4Xdji"
   },
   "outputs": [],
   "source": [
    "x3 = x3[[\"airline\", \"source_city\", \"departure_time\", \"stops\", 'arrival_time', \"destination_city\", 'days_left', 'duration']]\n",
    "X3_train, X3_test, y3_train, y3_test = train_test_split(x3, y3, test_size=0.20)\n",
    "from sklearn.preprocessing import MinMaxScaler\n",
    "mmscaler = MinMaxScaler(feature_range=(0,1))\n",
    "X3_train = mmscaler.fit_transform(X3_train)\n",
    "X3_test = mmscaler.fit_transform(X3_test)\n",
    "X3_train = pd.DataFrame(X3_train)\n",
    "X3_test = pd.DataFrame(X3_test) "
   ]
  },
  {
   "cell_type": "code",
   "execution_count": 39,
   "metadata": {
    "colab": {
     "background_save": true
    },
    "id": "asFe1fJBXpUp"
   },
   "outputs": [],
   "source": [
    "from sklearn import metrics\n",
    "def evaluate_model(y3_pred,y3_test):\n",
    "    print('Mean Absolute Error (MAE):', round(metrics.mean_absolute_error(y3_test, y3_pred),3))  \n",
    "    print('Root Mean Squared Error (RMSE):', round(np.sqrt(metrics.mean_squared_error(y3_test, y3_pred)),3))"
   ]
  },
  {
   "cell_type": "code",
   "execution_count": 40,
   "metadata": {
    "colab": {
     "background_save": true
    },
    "id": "b1xfB0-3Xz8V"
   },
   "outputs": [
    {
     "name": "stdout",
     "output_type": "stream",
     "text": [
      "Mean Absolute Error (MAE): 15178.739\n",
      "Root Mean Squared Error (RMSE): 20759.912\n",
      "R2 Score:  0.16729922734629865\n"
     ]
    }
   ],
   "source": [
    "from sklearn.ensemble import RandomForestRegressor\n",
    "from sklearn.metrics import r2_score\n",
    "\n",
    "rf_reg = RandomForestRegressor()\n",
    "rf_reg.fit(X3_train,y3_train)\n",
    "y3_pred = rf_reg.predict(X3_test)\n",
    "evaluate_model(y3_pred,y3_test)\n",
    "print(\"R2 Score: \",r2_score(y3_test,y3_pred))"
   ]
  },
  {
   "cell_type": "markdown",
   "metadata": {
    "id": "j_DCmT2aTWOa"
   },
   "source": [
    "# F4 (Duration column excluded)"
   ]
  },
  {
   "cell_type": "code",
   "execution_count": 41,
   "metadata": {
    "colab": {
     "background_save": true
    },
    "id": "gkJy9tEUEJtb"
   },
   "outputs": [
    {
     "data": {
      "text/html": [
       "<div>\n",
       "<style scoped>\n",
       "    .dataframe tbody tr th:only-of-type {\n",
       "        vertical-align: middle;\n",
       "    }\n",
       "\n",
       "    .dataframe tbody tr th {\n",
       "        vertical-align: top;\n",
       "    }\n",
       "\n",
       "    .dataframe thead th {\n",
       "        text-align: right;\n",
       "    }\n",
       "</style>\n",
       "<table border=\"1\" class=\"dataframe\">\n",
       "  <thead>\n",
       "    <tr style=\"text-align: right;\">\n",
       "      <th></th>\n",
       "      <th>Unnamed: 0</th>\n",
       "      <th>airline</th>\n",
       "      <th>flight</th>\n",
       "      <th>source_city</th>\n",
       "      <th>departure_time</th>\n",
       "      <th>stops</th>\n",
       "      <th>arrival_time</th>\n",
       "      <th>destination_city</th>\n",
       "      <th>class</th>\n",
       "      <th>days_left</th>\n",
       "      <th>price</th>\n",
       "    </tr>\n",
       "  </thead>\n",
       "  <tbody>\n",
       "    <tr>\n",
       "      <th>0</th>\n",
       "      <td>0</td>\n",
       "      <td>4</td>\n",
       "      <td>1408</td>\n",
       "      <td>2</td>\n",
       "      <td>2</td>\n",
       "      <td>2</td>\n",
       "      <td>5</td>\n",
       "      <td>5</td>\n",
       "      <td>1</td>\n",
       "      <td>1</td>\n",
       "      <td>5953</td>\n",
       "    </tr>\n",
       "    <tr>\n",
       "      <th>1</th>\n",
       "      <td>1</td>\n",
       "      <td>4</td>\n",
       "      <td>1387</td>\n",
       "      <td>2</td>\n",
       "      <td>1</td>\n",
       "      <td>2</td>\n",
       "      <td>4</td>\n",
       "      <td>5</td>\n",
       "      <td>1</td>\n",
       "      <td>1</td>\n",
       "      <td>5953</td>\n",
       "    </tr>\n",
       "    <tr>\n",
       "      <th>2</th>\n",
       "      <td>2</td>\n",
       "      <td>0</td>\n",
       "      <td>1213</td>\n",
       "      <td>2</td>\n",
       "      <td>1</td>\n",
       "      <td>2</td>\n",
       "      <td>1</td>\n",
       "      <td>5</td>\n",
       "      <td>1</td>\n",
       "      <td>1</td>\n",
       "      <td>5956</td>\n",
       "    </tr>\n",
       "    <tr>\n",
       "      <th>3</th>\n",
       "      <td>3</td>\n",
       "      <td>5</td>\n",
       "      <td>1559</td>\n",
       "      <td>2</td>\n",
       "      <td>4</td>\n",
       "      <td>2</td>\n",
       "      <td>0</td>\n",
       "      <td>5</td>\n",
       "      <td>1</td>\n",
       "      <td>1</td>\n",
       "      <td>5955</td>\n",
       "    </tr>\n",
       "    <tr>\n",
       "      <th>4</th>\n",
       "      <td>4</td>\n",
       "      <td>5</td>\n",
       "      <td>1549</td>\n",
       "      <td>2</td>\n",
       "      <td>4</td>\n",
       "      <td>2</td>\n",
       "      <td>4</td>\n",
       "      <td>5</td>\n",
       "      <td>1</td>\n",
       "      <td>1</td>\n",
       "      <td>5955</td>\n",
       "    </tr>\n",
       "  </tbody>\n",
       "</table>\n",
       "</div>"
      ],
      "text/plain": [
       "   Unnamed: 0  airline  flight  source_city  departure_time  stops  \\\n",
       "0           0        4    1408            2               2      2   \n",
       "1           1        4    1387            2               1      2   \n",
       "2           2        0    1213            2               1      2   \n",
       "3           3        5    1559            2               4      2   \n",
       "4           4        5    1549            2               4      2   \n",
       "\n",
       "   arrival_time  destination_city  class  days_left  price  \n",
       "0             5                 5      1          1   5953  \n",
       "1             4                 5      1          1   5953  \n",
       "2             1                 5      1          1   5956  \n",
       "3             0                 5      1          1   5955  \n",
       "4             4                 5      1          1   5955  "
      ]
     },
     "execution_count": 41,
     "metadata": {},
     "output_type": "execute_result"
    }
   ],
   "source": [
    "dfbackup4 = dfprice.copy()\n",
    "\n",
    "dfbackup4.drop(['duration'], axis = 1, inplace=True)\n",
    "\n",
    "from sklearn.preprocessing import LabelEncoder\n",
    "le = LabelEncoder()\n",
    "for col in dfbackup4.columns:\n",
    "    if dfbackup4[col].dtype == 'object':\n",
    "        dfbackup4[col] = le.fit_transform(dfbackup4[col])\n",
    "        \n",
    "dfbackup4.head()"
   ]
  },
  {
   "cell_type": "code",
   "execution_count": 42,
   "metadata": {
    "colab": {
     "background_save": true
    },
    "id": "pAZ8oxJrGaRu"
   },
   "outputs": [],
   "source": [
    "x4 = dfbackup4.drop(['price'], axis = 1)\n",
    "y4 = dfbackup4['price']"
   ]
  },
  {
   "cell_type": "code",
   "execution_count": 43,
   "metadata": {
    "colab": {
     "background_save": true
    },
    "id": "JbCafxc0HOEA"
   },
   "outputs": [
    {
     "data": {
      "text/plain": [
       "((210107, 10), (210107,), (90046, 10), (90046,))"
      ]
     },
     "execution_count": 43,
     "metadata": {},
     "output_type": "execute_result"
    }
   ],
   "source": [
    "from sklearn.model_selection import train_test_split\n",
    "x4_train, x4_test, y4_train, y4_test = train_test_split(x4, y4, test_size = 0.30, random_state = 42)\n",
    "x4_train.shape, y4_train.shape, x4_test.shape, y4_test.shape"
   ]
  },
  {
   "cell_type": "code",
   "execution_count": 44,
   "metadata": {
    "colab": {
     "background_save": true
    },
    "id": "GIFhyGAKIAyD"
   },
   "outputs": [],
   "source": [
    "from sklearn.preprocessing import MinMaxScaler\n",
    "mmscaler = MinMaxScaler(feature_range = (0, 1))\n",
    "x4_train = mmscaler.fit_transform(x4_train)\n",
    "x4_test = mmscaler.fit_transform(x4_test)\n",
    "x4_train = pd.DataFrame(x4_train)\n",
    "x4_test = pd.DataFrame(x4_test)"
   ]
  },
  {
   "cell_type": "code",
   "execution_count": 45,
   "metadata": {
    "colab": {
     "background_save": true
    },
    "id": "JPlQmWObKzJD"
   },
   "outputs": [
    {
     "name": "stdout",
     "output_type": "stream",
     "text": [
      "Nama model LinearRegression()\n",
      "Mean Absolute Error (MAE):  4657.463\n",
      "Mean Squared Error (MSE):  49322223.103\n",
      "Root Mean Squared Error (RMSE):  7022.978\n",
      "R2 Score:  0.90417\n",
      "Root Mean Squared Log Error (RMSLE):  8.857\n",
      "Mean Absolute Percentage Error (MAPE):  44.57 %\n",
      "Adjusted R Square:  0.904164\n",
      "-------------------------------------------------------------------------\n"
     ]
    },
    {
     "name": "stderr",
     "output_type": "stream",
     "text": [
      "/var/folders/zn/s1_n07kn17g1_nt548vj1tp40000gn/T/ipykernel_46319/1669501439.py:49: FutureWarning: The frame.append method is deprecated and will be removed from pandas in a future version. Use pandas.concat instead.\n",
      "  results = results.append(new_row, ignore_index = True)\n"
     ]
    }
   ],
   "source": [
    "#Pembuatan model regresi\n",
    "from sklearn.linear_model import LinearRegression\n",
    "modelmlg = LinearRegression()\n",
    "\n",
    "# Evaluasi Matrix dari setiap model\n",
    "MM = [modelmlg]\n",
    "for model in MM:\n",
    "    \n",
    "    # fitting model\n",
    "    model.fit(x4_train, y4_train)\n",
    "    \n",
    "    # model prediksi dengan data testing\n",
    "    y4_pred = model.predict(x4_test)\n",
    "    \n",
    "    # print nama model\n",
    "    print('Nama model', model)\n",
    "    \n",
    "    # Metrics Evaluasi terhadap model yang digunakan\n",
    "    \n",
    "    from sklearn import metrics\n",
    "    print('Mean Absolute Error (MAE): ', round(metrics.mean_absolute_error(y4_test, y4_pred), 3))\n",
    "    print('Mean Squared Error (MSE): ', round(metrics.mean_squared_error(y4_test, y4_pred), 3))\n",
    "    print('Root Mean Squared Error (RMSE): ', round(np.sqrt(metrics.mean_squared_error(y4_test, y4_pred)), 3))\n",
    "    print('R2 Score: ', round(metrics.r2_score(y4_test, y4_pred), 5))\n",
    "    print('Root Mean Squared Log Error (RMSLE): ', round(np.log(np.sqrt(metrics.mean_squared_error(y4_test, y4_pred))), 3))\n",
    "    \n",
    "    # Fungsi untuk menghitung MAPE - Mean Absolute Percentage Error\n",
    "    def MAPE(y4_test, y4_pred):\n",
    "        y4_test, y4_pred = np.array(y4_test), np.array(y4_pred)\n",
    "        return np.mean(np.abs((y4_test - y4_pred) / y4_test)) * 100\n",
    "    \n",
    "    # EvaluasiMAPE\n",
    "    result = MAPE(y4_test, y4_pred)\n",
    "    print('Mean Absolute Percentage Error (MAPE): ', round(result, 2), '%')\n",
    "    \n",
    "    # Nilai R Squared values\n",
    "    r_squared = round(metrics.r2_score(y4_test, y4_pred), 6)\n",
    "    adjusted_r_squared = round(1-(1-r_squared)*(len(y4)-1) / (len(y4)-x4.shape[1]-1), 6)\n",
    "    print('Adjusted R Square: ', adjusted_r_squared)\n",
    "    print(\"-------------------------------------------------------------------------\")\n",
    "    new_row = {'Nama Model' : model,\n",
    "             'Mean_Absolute_Error_MAE' : metrics.mean_absolute_error(y4_test, y4_pred),\n",
    "             'Adj_R_Square' : adjusted_r_squared,\n",
    "             'Root_Mean_Squared_Error_RMSE' : np.sqrt(metrics.mean_squared_error(y4_test, y4_pred)),\n",
    "             'Mean_Absolute_Percentage_Error_MAPE' : MAPE(y4_test, y4_pred),\n",
    "             'Mean_Squared_Error_MSE' : metrics.mean_squared_error(y4_test, y4_pred),\n",
    "             'Root_Mean_Squared_Log_Error_RMSLE' : np.log(np.sqrt(metrics.mean_squared_error(y4_test, y4_pred))),\n",
    "             'R2_Score' : metrics.r2_score(y4_test, y4_pred)}\n",
    "    results = results.append(new_row, ignore_index = True)"
   ]
  },
  {
   "cell_type": "code",
   "execution_count": 46,
   "metadata": {
    "colab": {
     "background_save": true
    },
    "id": "BCf2LuLcX7xW"
   },
   "outputs": [],
   "source": [
    "x4 = x4[[\"airline\", \"source_city\", \"departure_time\", \"stops\", 'arrival_time', \"destination_city\", \n",
    "       \"class\", 'days_left']]\n",
    "X4_train, X4_test, y4_train, y4_test = train_test_split(x4, y4, test_size=0.20)\n",
    "from sklearn.preprocessing import MinMaxScaler\n",
    "mmscaler = MinMaxScaler(feature_range=(0,1))\n",
    "X4_train = mmscaler.fit_transform(X4_train)\n",
    "X4_test = mmscaler.fit_transform(X4_test)\n",
    "X4_train = pd.DataFrame(X4_train)\n",
    "X4_test = pd.DataFrame(X4_test) "
   ]
  },
  {
   "cell_type": "code",
   "execution_count": 47,
   "metadata": {
    "colab": {
     "background_save": true
    },
    "id": "UhY3M1WQYDQy"
   },
   "outputs": [],
   "source": [
    "from sklearn import metrics\n",
    "def evaluate_model(y4_pred,y4_test):\n",
    "    print('Mean Absolute Error (MAE):', round(metrics.mean_absolute_error(y4_test, y4_pred),3))  \n",
    "    print('Root Mean Squared Error (RMSE):', round(np.sqrt(metrics.mean_squared_error(y4_test, y4_pred)),3))"
   ]
  },
  {
   "cell_type": "code",
   "execution_count": 48,
   "metadata": {
    "colab": {
     "background_save": true
    },
    "id": "pL8d9hM-YHt-"
   },
   "outputs": [
    {
     "name": "stdout",
     "output_type": "stream",
     "text": [
      "Mean Absolute Error (MAE): 2144.642\n",
      "Root Mean Squared Error (RMSE): 4360.234\n",
      "R2 Score:  0.9629873860152065\n"
     ]
    }
   ],
   "source": [
    "from sklearn.ensemble import RandomForestRegressor\n",
    "from sklearn.metrics import r2_score\n",
    "\n",
    "rf_reg = RandomForestRegressor()\n",
    "rf_reg.fit(X4_train,y4_train)\n",
    "y4_pred = rf_reg.predict(X4_test)\n",
    "evaluate_model(y4_pred,y4_test)\n",
    "print(\"R2 Score: \",r2_score(y4_test,y4_pred))"
   ]
  },
  {
   "cell_type": "markdown",
   "metadata": {
    "id": "x7pMBf6XTt5Z"
   },
   "source": [
    "# F5 (Days Left column excluded)"
   ]
  },
  {
   "cell_type": "code",
   "execution_count": 49,
   "metadata": {
    "id": "diamzvhKEQTo"
   },
   "outputs": [
    {
     "data": {
      "text/html": [
       "<div>\n",
       "<style scoped>\n",
       "    .dataframe tbody tr th:only-of-type {\n",
       "        vertical-align: middle;\n",
       "    }\n",
       "\n",
       "    .dataframe tbody tr th {\n",
       "        vertical-align: top;\n",
       "    }\n",
       "\n",
       "    .dataframe thead th {\n",
       "        text-align: right;\n",
       "    }\n",
       "</style>\n",
       "<table border=\"1\" class=\"dataframe\">\n",
       "  <thead>\n",
       "    <tr style=\"text-align: right;\">\n",
       "      <th></th>\n",
       "      <th>Unnamed: 0</th>\n",
       "      <th>airline</th>\n",
       "      <th>flight</th>\n",
       "      <th>source_city</th>\n",
       "      <th>departure_time</th>\n",
       "      <th>stops</th>\n",
       "      <th>arrival_time</th>\n",
       "      <th>destination_city</th>\n",
       "      <th>class</th>\n",
       "      <th>duration</th>\n",
       "      <th>price</th>\n",
       "    </tr>\n",
       "  </thead>\n",
       "  <tbody>\n",
       "    <tr>\n",
       "      <th>0</th>\n",
       "      <td>0</td>\n",
       "      <td>4</td>\n",
       "      <td>1408</td>\n",
       "      <td>2</td>\n",
       "      <td>2</td>\n",
       "      <td>2</td>\n",
       "      <td>5</td>\n",
       "      <td>5</td>\n",
       "      <td>1</td>\n",
       "      <td>2.17</td>\n",
       "      <td>5953</td>\n",
       "    </tr>\n",
       "    <tr>\n",
       "      <th>1</th>\n",
       "      <td>1</td>\n",
       "      <td>4</td>\n",
       "      <td>1387</td>\n",
       "      <td>2</td>\n",
       "      <td>1</td>\n",
       "      <td>2</td>\n",
       "      <td>4</td>\n",
       "      <td>5</td>\n",
       "      <td>1</td>\n",
       "      <td>2.33</td>\n",
       "      <td>5953</td>\n",
       "    </tr>\n",
       "    <tr>\n",
       "      <th>2</th>\n",
       "      <td>2</td>\n",
       "      <td>0</td>\n",
       "      <td>1213</td>\n",
       "      <td>2</td>\n",
       "      <td>1</td>\n",
       "      <td>2</td>\n",
       "      <td>1</td>\n",
       "      <td>5</td>\n",
       "      <td>1</td>\n",
       "      <td>2.17</td>\n",
       "      <td>5956</td>\n",
       "    </tr>\n",
       "    <tr>\n",
       "      <th>3</th>\n",
       "      <td>3</td>\n",
       "      <td>5</td>\n",
       "      <td>1559</td>\n",
       "      <td>2</td>\n",
       "      <td>4</td>\n",
       "      <td>2</td>\n",
       "      <td>0</td>\n",
       "      <td>5</td>\n",
       "      <td>1</td>\n",
       "      <td>2.25</td>\n",
       "      <td>5955</td>\n",
       "    </tr>\n",
       "    <tr>\n",
       "      <th>4</th>\n",
       "      <td>4</td>\n",
       "      <td>5</td>\n",
       "      <td>1549</td>\n",
       "      <td>2</td>\n",
       "      <td>4</td>\n",
       "      <td>2</td>\n",
       "      <td>4</td>\n",
       "      <td>5</td>\n",
       "      <td>1</td>\n",
       "      <td>2.33</td>\n",
       "      <td>5955</td>\n",
       "    </tr>\n",
       "  </tbody>\n",
       "</table>\n",
       "</div>"
      ],
      "text/plain": [
       "   Unnamed: 0  airline  flight  source_city  departure_time  stops  \\\n",
       "0           0        4    1408            2               2      2   \n",
       "1           1        4    1387            2               1      2   \n",
       "2           2        0    1213            2               1      2   \n",
       "3           3        5    1559            2               4      2   \n",
       "4           4        5    1549            2               4      2   \n",
       "\n",
       "   arrival_time  destination_city  class  duration  price  \n",
       "0             5                 5      1      2.17   5953  \n",
       "1             4                 5      1      2.33   5953  \n",
       "2             1                 5      1      2.17   5956  \n",
       "3             0                 5      1      2.25   5955  \n",
       "4             4                 5      1      2.33   5955  "
      ]
     },
     "execution_count": 49,
     "metadata": {},
     "output_type": "execute_result"
    }
   ],
   "source": [
    "dfbackup5 = dfprice.copy()\n",
    "\n",
    "dfbackup5.drop(['days_left'], axis = 1, inplace=True)\n",
    "\n",
    "from sklearn.preprocessing import LabelEncoder\n",
    "le = LabelEncoder()\n",
    "for col in dfbackup5.columns:\n",
    "    if dfbackup5[col].dtype == 'object':\n",
    "        dfbackup5[col] = le.fit_transform(dfbackup5[col])\n",
    "        \n",
    "dfbackup5.head()"
   ]
  },
  {
   "cell_type": "code",
   "execution_count": 50,
   "metadata": {
    "id": "2KB3iTBgGd7f"
   },
   "outputs": [],
   "source": [
    "x5 = dfbackup5.drop(['price'], axis = 1)\n",
    "y5 = dfbackup5['price']"
   ]
  },
  {
   "cell_type": "code",
   "execution_count": 51,
   "metadata": {
    "id": "63L-Mq6rHW9J"
   },
   "outputs": [
    {
     "data": {
      "text/plain": [
       "((210107, 10), (210107,), (90046, 10), (90046,))"
      ]
     },
     "execution_count": 51,
     "metadata": {},
     "output_type": "execute_result"
    }
   ],
   "source": [
    "from sklearn.model_selection import train_test_split\n",
    "x5_train, x5_test, y5_train, y5_test = train_test_split(x5, y5, test_size = 0.30, random_state = 42)\n",
    "x5_train.shape, y5_train.shape, x5_test.shape, y5_test.shape"
   ]
  },
  {
   "cell_type": "code",
   "execution_count": 52,
   "metadata": {
    "id": "HYNInYp8IE9n"
   },
   "outputs": [],
   "source": [
    "from sklearn.preprocessing import MinMaxScaler\n",
    "mmscaler = MinMaxScaler(feature_range = (0, 1))\n",
    "x5_train = mmscaler.fit_transform(x5_train)\n",
    "x5_test = mmscaler.fit_transform(x5_test)\n",
    "x5_train = pd.DataFrame(x5_train)\n",
    "x5_test = pd.DataFrame(x5_test)"
   ]
  },
  {
   "cell_type": "code",
   "execution_count": 53,
   "metadata": {
    "id": "3mBBRNqfMvt5"
   },
   "outputs": [
    {
     "name": "stdout",
     "output_type": "stream",
     "text": [
      "Nama model LinearRegression()\n",
      "Mean Absolute Error (MAE):  4917.469\n",
      "Mean Squared Error (MSE):  52251430.646\n",
      "Root Mean Squared Error (RMSE):  7228.515\n",
      "R2 Score:  0.89848\n",
      "Root Mean Squared Log Error (RMSLE):  8.886\n",
      "Mean Absolute Percentage Error (MAPE):  47.87 %\n",
      "Adjusted R Square:  0.898472\n",
      "-------------------------------------------------------------------------\n"
     ]
    },
    {
     "name": "stderr",
     "output_type": "stream",
     "text": [
      "/var/folders/zn/s1_n07kn17g1_nt548vj1tp40000gn/T/ipykernel_46319/229816190.py:49: FutureWarning: The frame.append method is deprecated and will be removed from pandas in a future version. Use pandas.concat instead.\n",
      "  results = results.append(new_row, ignore_index = True)\n"
     ]
    }
   ],
   "source": [
    "#Pembuatan model regresi\n",
    "from sklearn.linear_model import LinearRegression\n",
    "modelmlg = LinearRegression()\n",
    "\n",
    "# Evaluasi Matrix dari setiap model\n",
    "MM = [modelmlg]\n",
    "for model in MM:\n",
    "    \n",
    "    # fitting model\n",
    "    model.fit(x5_train, y5_train)\n",
    "    \n",
    "    # model prediksi dengan data testing\n",
    "    y5_pred = model.predict(x5_test)\n",
    "    \n",
    "    # print nama model\n",
    "    print('Nama model', model)\n",
    "    \n",
    "    # Metrics Evaluasi terhadap model yang digunakan\n",
    "    \n",
    "    from sklearn import metrics\n",
    "    print('Mean Absolute Error (MAE): ', round(metrics.mean_absolute_error(y5_test, y5_pred), 3))\n",
    "    print('Mean Squared Error (MSE): ', round(metrics.mean_squared_error(y5_test, y5_pred), 3))\n",
    "    print('Root Mean Squared Error (RMSE): ', round(np.sqrt(metrics.mean_squared_error(y5_test, y5_pred)), 3))\n",
    "    print('R2 Score: ', round(metrics.r2_score(y5_test, y5_pred), 5))\n",
    "    print('Root Mean Squared Log Error (RMSLE): ', round(np.log(np.sqrt(metrics.mean_squared_error(y5_test, y5_pred))), 3))\n",
    "    \n",
    "    # Fungsi untuk menghitung MAPE - Mean Absolute Percentage Error\n",
    "    def MAPE(y5_test, y5_pred):\n",
    "        y5_test, y5_pred = np.array(y5_test), np.array(y5_pred)\n",
    "        return np.mean(np.abs((y5_test - y5_pred) / y5_test)) * 100\n",
    "    \n",
    "    # EvaluasiMAPE\n",
    "    result = MAPE(y5_test, y5_pred)\n",
    "    print('Mean Absolute Percentage Error (MAPE): ', round(result, 2), '%')\n",
    "    \n",
    "    # Nilai R Squared values\n",
    "    r_squared = round(metrics.r2_score(y5_test, y5_pred), 6)\n",
    "    adjusted_r_squared = round(1-(1-r_squared)*(len(y5)-1) / (len(y5)-x5.shape[1]-1), 6)\n",
    "    print('Adjusted R Square: ', adjusted_r_squared)\n",
    "    print(\"-------------------------------------------------------------------------\")\n",
    "    new_row = {'Nama Model' : model,\n",
    "             'Mean_Absolute_Error_MAE' : metrics.mean_absolute_error(y5_test, y5_pred),\n",
    "             'Adj_R_Square' : adjusted_r_squared,\n",
    "             'Root_Mean_Squared_Error_RMSE' : np.sqrt(metrics.mean_squared_error(y5_test, y5_pred)),\n",
    "             'Mean_Absolute_Percentage_Error_MAPE' : MAPE(y5_test, y5_pred),\n",
    "             'Mean_Squared_Error_MSE' : metrics.mean_squared_error(y5_test, y5_pred),\n",
    "             'Root_Mean_Squared_Log_Error_RMSLE' : np.log(np.sqrt(metrics.mean_squared_error(y5_test, y5_pred))),\n",
    "             'R2_Score' : metrics.r2_score(y5_test, y5_pred)}\n",
    "    results = results.append(new_row, ignore_index = True)"
   ]
  },
  {
   "cell_type": "code",
   "execution_count": 54,
   "metadata": {
    "id": "0WC8tzBqZ7tk"
   },
   "outputs": [],
   "source": [
    "x5 = x5[[\"airline\", \"source_city\", \"departure_time\", \"stops\", 'arrival_time', \"destination_city\", \n",
    "       \"class\", 'duration']]\n",
    "X5_train, X5_test, y5_train, y5_test = train_test_split(x5, y5, test_size=0.20)\n",
    "from sklearn.preprocessing import MinMaxScaler\n",
    "mmscaler = MinMaxScaler(feature_range=(0,1))\n",
    "X5_train = mmscaler.fit_transform(X5_train)\n",
    "X5_test = mmscaler.fit_transform(X5_test)\n",
    "X5_train = pd.DataFrame(X5_train)\n",
    "X5_test = pd.DataFrame(X5_test) "
   ]
  },
  {
   "cell_type": "code",
   "execution_count": 55,
   "metadata": {
    "id": "sUbEZiE0aIMj"
   },
   "outputs": [],
   "source": [
    "from sklearn import metrics\n",
    "def evaluate_model(y5_pred,y5_test):\n",
    "    print('Mean Absolute Error (MAE):', round(metrics.mean_absolute_error(y5_test, y5_pred),3))  \n",
    "    print('Root Mean Squared Error (RMSE):', round(np.sqrt(metrics.mean_squared_error(y5_test, y5_pred)),3))"
   ]
  },
  {
   "cell_type": "code",
   "execution_count": 56,
   "metadata": {
    "colab": {
     "base_uri": "https://localhost:8080/"
    },
    "id": "roMmBEXCaP0B",
    "outputId": "110604a2-ef26-46c6-bd4c-1ee9010a9559"
   },
   "outputs": [
    {
     "name": "stdout",
     "output_type": "stream",
     "text": [
      "Mean Absolute Error (MAE): 2167.148\n",
      "Root Mean Squared Error (RMSE): 3529.858\n",
      "R2 Score:  0.9756147474235941\n"
     ]
    }
   ],
   "source": [
    "from sklearn.ensemble import RandomForestRegressor\n",
    "from sklearn.metrics import r2_score\n",
    "\n",
    "rf_reg = RandomForestRegressor()\n",
    "rf_reg.fit(X5_train,y5_train)\n",
    "y5_pred = rf_reg.predict(X5_test)\n",
    "evaluate_model(y5_pred,y5_test)\n",
    "print(\"R2 Score: \",r2_score(y5_test,y5_pred))"
   ]
  },
  {
   "cell_type": "markdown",
   "metadata": {
    "id": "3D7PQbYZUx6d"
   },
   "source": [
    "# F6 (Departure & Arrival Time column excluded)"
   ]
  },
  {
   "cell_type": "code",
   "execution_count": 57,
   "metadata": {
    "id": "vZiFuPLAEl-u"
   },
   "outputs": [
    {
     "data": {
      "text/html": [
       "<div>\n",
       "<style scoped>\n",
       "    .dataframe tbody tr th:only-of-type {\n",
       "        vertical-align: middle;\n",
       "    }\n",
       "\n",
       "    .dataframe tbody tr th {\n",
       "        vertical-align: top;\n",
       "    }\n",
       "\n",
       "    .dataframe thead th {\n",
       "        text-align: right;\n",
       "    }\n",
       "</style>\n",
       "<table border=\"1\" class=\"dataframe\">\n",
       "  <thead>\n",
       "    <tr style=\"text-align: right;\">\n",
       "      <th></th>\n",
       "      <th>Unnamed: 0</th>\n",
       "      <th>airline</th>\n",
       "      <th>flight</th>\n",
       "      <th>source_city</th>\n",
       "      <th>stops</th>\n",
       "      <th>destination_city</th>\n",
       "      <th>class</th>\n",
       "      <th>duration</th>\n",
       "      <th>days_left</th>\n",
       "      <th>price</th>\n",
       "    </tr>\n",
       "  </thead>\n",
       "  <tbody>\n",
       "    <tr>\n",
       "      <th>0</th>\n",
       "      <td>0</td>\n",
       "      <td>4</td>\n",
       "      <td>1408</td>\n",
       "      <td>2</td>\n",
       "      <td>2</td>\n",
       "      <td>5</td>\n",
       "      <td>1</td>\n",
       "      <td>2.17</td>\n",
       "      <td>1</td>\n",
       "      <td>5953</td>\n",
       "    </tr>\n",
       "    <tr>\n",
       "      <th>1</th>\n",
       "      <td>1</td>\n",
       "      <td>4</td>\n",
       "      <td>1387</td>\n",
       "      <td>2</td>\n",
       "      <td>2</td>\n",
       "      <td>5</td>\n",
       "      <td>1</td>\n",
       "      <td>2.33</td>\n",
       "      <td>1</td>\n",
       "      <td>5953</td>\n",
       "    </tr>\n",
       "    <tr>\n",
       "      <th>2</th>\n",
       "      <td>2</td>\n",
       "      <td>0</td>\n",
       "      <td>1213</td>\n",
       "      <td>2</td>\n",
       "      <td>2</td>\n",
       "      <td>5</td>\n",
       "      <td>1</td>\n",
       "      <td>2.17</td>\n",
       "      <td>1</td>\n",
       "      <td>5956</td>\n",
       "    </tr>\n",
       "    <tr>\n",
       "      <th>3</th>\n",
       "      <td>3</td>\n",
       "      <td>5</td>\n",
       "      <td>1559</td>\n",
       "      <td>2</td>\n",
       "      <td>2</td>\n",
       "      <td>5</td>\n",
       "      <td>1</td>\n",
       "      <td>2.25</td>\n",
       "      <td>1</td>\n",
       "      <td>5955</td>\n",
       "    </tr>\n",
       "    <tr>\n",
       "      <th>4</th>\n",
       "      <td>4</td>\n",
       "      <td>5</td>\n",
       "      <td>1549</td>\n",
       "      <td>2</td>\n",
       "      <td>2</td>\n",
       "      <td>5</td>\n",
       "      <td>1</td>\n",
       "      <td>2.33</td>\n",
       "      <td>1</td>\n",
       "      <td>5955</td>\n",
       "    </tr>\n",
       "  </tbody>\n",
       "</table>\n",
       "</div>"
      ],
      "text/plain": [
       "   Unnamed: 0  airline  flight  source_city  stops  destination_city  class  \\\n",
       "0           0        4    1408            2      2                 5      1   \n",
       "1           1        4    1387            2      2                 5      1   \n",
       "2           2        0    1213            2      2                 5      1   \n",
       "3           3        5    1559            2      2                 5      1   \n",
       "4           4        5    1549            2      2                 5      1   \n",
       "\n",
       "   duration  days_left  price  \n",
       "0      2.17          1   5953  \n",
       "1      2.33          1   5953  \n",
       "2      2.17          1   5956  \n",
       "3      2.25          1   5955  \n",
       "4      2.33          1   5955  "
      ]
     },
     "execution_count": 57,
     "metadata": {},
     "output_type": "execute_result"
    }
   ],
   "source": [
    "dfbackup6 = dfprice.copy()\n",
    "\n",
    "dfbackup6.drop(['departure_time'], axis = 1, inplace=True)\n",
    "dfbackup6.drop(['arrival_time'], axis = 1, inplace=True)\n",
    "\n",
    "from sklearn.preprocessing import LabelEncoder\n",
    "le = LabelEncoder()\n",
    "for col in dfbackup6.columns:\n",
    "    if dfbackup6[col].dtype == 'object':\n",
    "        dfbackup6[col] = le.fit_transform(dfbackup6[col])\n",
    "        \n",
    "dfbackup6.head()"
   ]
  },
  {
   "cell_type": "code",
   "execution_count": 58,
   "metadata": {
    "id": "n50k1YfLGhPU"
   },
   "outputs": [],
   "source": [
    "x6 = dfbackup6.drop(['price'], axis = 1)\n",
    "y6 = dfbackup6['price']"
   ]
  },
  {
   "cell_type": "code",
   "execution_count": 59,
   "metadata": {
    "id": "tNbvf6oZHeTE"
   },
   "outputs": [
    {
     "data": {
      "text/plain": [
       "((210107, 9), (210107,), (90046, 9), (90046,))"
      ]
     },
     "execution_count": 59,
     "metadata": {},
     "output_type": "execute_result"
    }
   ],
   "source": [
    "from sklearn.model_selection import train_test_split\n",
    "x6_train, x6_test, y6_train, y6_test = train_test_split(x6, y6, test_size = 0.30, random_state = 42)\n",
    "x6_train.shape, y6_train.shape, x6_test.shape, y6_test.shape"
   ]
  },
  {
   "cell_type": "code",
   "execution_count": 60,
   "metadata": {
    "id": "-K0ROKlSII40"
   },
   "outputs": [],
   "source": [
    "from sklearn.preprocessing import MinMaxScaler\n",
    "mmscaler = MinMaxScaler(feature_range = (0, 1))\n",
    "x6_train = mmscaler.fit_transform(x6_train)\n",
    "x6_test = mmscaler.fit_transform(x6_test)\n",
    "x6_train = pd.DataFrame(x6_train)\n",
    "x6_test = pd.DataFrame(x6_test)"
   ]
  },
  {
   "cell_type": "code",
   "execution_count": 61,
   "metadata": {
    "colab": {
     "base_uri": "https://localhost:8080/"
    },
    "id": "pY-a6ujANycN",
    "outputId": "90a104ac-3aa4-4ebc-afc6-ad459b416040"
   },
   "outputs": [
    {
     "name": "stdout",
     "output_type": "stream",
     "text": [
      "Nama model LinearRegression()\n",
      "Mean Absolute Error (MAE):  4629.694\n",
      "Mean Squared Error (MSE):  49167964.03\n",
      "Root Mean Squared Error (RMSE):  7011.987\n",
      "R2 Score:  0.90447\n",
      "Root Mean Squared Log Error (RMSLE):  8.855\n",
      "Mean Absolute Percentage Error (MAPE):  43.74 %\n",
      "Adjusted R Square:  0.904463\n",
      "-------------------------------------------------------------------------\n"
     ]
    },
    {
     "name": "stderr",
     "output_type": "stream",
     "text": [
      "/var/folders/zn/s1_n07kn17g1_nt548vj1tp40000gn/T/ipykernel_46319/2795219984.py:49: FutureWarning: The frame.append method is deprecated and will be removed from pandas in a future version. Use pandas.concat instead.\n",
      "  results = results.append(new_row, ignore_index = True)\n"
     ]
    }
   ],
   "source": [
    "#Pembuatan model regresi\n",
    "from sklearn.linear_model import LinearRegression\n",
    "modelmlg = LinearRegression()\n",
    "\n",
    "# Evaluasi Matrix dari setiap model\n",
    "MM = [modelmlg]\n",
    "for model in MM:\n",
    "    \n",
    "    # fitting model\n",
    "    model.fit(x6_train, y6_train)\n",
    "    \n",
    "    # model prediksi dengan data testing\n",
    "    y6_pred = model.predict(x6_test)\n",
    "    \n",
    "    # print nama model\n",
    "    print('Nama model', model)\n",
    "    \n",
    "    # Metrics Evaluasi terhadap model yang digunakan\n",
    "    \n",
    "    from sklearn import metrics\n",
    "    print('Mean Absolute Error (MAE): ', round(metrics.mean_absolute_error(y6_test, y6_pred), 3))\n",
    "    print('Mean Squared Error (MSE): ', round(metrics.mean_squared_error(y6_test, y6_pred), 3))\n",
    "    print('Root Mean Squared Error (RMSE): ', round(np.sqrt(metrics.mean_squared_error(y6_test, y6_pred)), 3))\n",
    "    print('R2 Score: ', round(metrics.r2_score(y6_test, y6_pred), 5))\n",
    "    print('Root Mean Squared Log Error (RMSLE): ', round(np.log(np.sqrt(metrics.mean_squared_error(y6_test, y6_pred))), 3))\n",
    "    \n",
    "    # Fungsi untuk menghitung MAPE - Mean Absolute Percentage Error\n",
    "    def MAPE(y6_test, y6_pred):\n",
    "        y6_test, y6_pred = np.array(y6_test), np.array(y6_pred)\n",
    "        return np.mean(np.abs((y6_test - y6_pred) / y6_test)) * 100\n",
    "    \n",
    "    # EvaluasiMAPE\n",
    "    result = MAPE(y6_test, y6_pred)\n",
    "    print('Mean Absolute Percentage Error (MAPE): ', round(result, 2), '%')\n",
    "    \n",
    "    # Nilai R Squared values\n",
    "    r_squared = round(metrics.r2_score(y6_test, y6_pred), 6)\n",
    "    adjusted_r_squared = round(1-(1-r_squared)*(len(y6)-1) / (len(y6)-x6.shape[1]-1), 6)\n",
    "    print('Adjusted R Square: ', adjusted_r_squared)\n",
    "    print(\"-------------------------------------------------------------------------\")\n",
    "    new_row = {'Nama Model' : model,\n",
    "             'Mean_Absolute_Error_MAE' : metrics.mean_absolute_error(y6_test, y6_pred),\n",
    "             'Adj_R_Square' : adjusted_r_squared,\n",
    "             'Root_Mean_Squared_Error_RMSE' : np.sqrt(metrics.mean_squared_error(y6_test, y6_pred)),\n",
    "             'Mean_Absolute_Percentage_Error_MAPE' : MAPE(y6_test, y6_pred),\n",
    "             'Mean_Squared_Error_MSE' : metrics.mean_squared_error(y6_test, y6_pred),\n",
    "             'Root_Mean_Squared_Log_Error_RMSLE' : np.log(np.sqrt(metrics.mean_squared_error(y6_test, y6_pred))),\n",
    "             'R2_Score' : metrics.r2_score(y6_test, y6_pred)}\n",
    "    results = results.append(new_row, ignore_index = True)"
   ]
  },
  {
   "cell_type": "code",
   "execution_count": 62,
   "metadata": {
    "id": "dV0ww1vVa-sD"
   },
   "outputs": [],
   "source": [
    "x6 = x6[[\"airline\", \"source_city\", \"stops\", \"destination_city\", \"class\", 'days_left', 'duration']]\n",
    "X6_train, X6_test, y6_train, y6_test = train_test_split(x6, y6, test_size=0.20)\n",
    "from sklearn.preprocessing import MinMaxScaler\n",
    "mmscaler = MinMaxScaler(feature_range=(0,1))\n",
    "X6_train = mmscaler.fit_transform(X6_train)\n",
    "X6_test = mmscaler.fit_transform(X6_test)\n",
    "X6_train = pd.DataFrame(X6_train)\n",
    "X6_test = pd.DataFrame(X6_test) "
   ]
  },
  {
   "cell_type": "code",
   "execution_count": 63,
   "metadata": {
    "id": "Tpk6GcgMbPYO"
   },
   "outputs": [],
   "source": [
    "from sklearn import metrics\n",
    "def evaluate_model(y6_pred,y6_test):\n",
    "    print('Mean Absolute Error (MAE):', round(metrics.mean_absolute_error(y6_test, y6_pred),3))  \n",
    "    print('Root Mean Squared Error (RMSE):', round(np.sqrt(metrics.mean_squared_error(y6_test, y6_pred)),3))"
   ]
  },
  {
   "cell_type": "code",
   "execution_count": 64,
   "metadata": {
    "id": "6tjRgugwbULP"
   },
   "outputs": [
    {
     "name": "stdout",
     "output_type": "stream",
     "text": [
      "Mean Absolute Error (MAE): 1362.467\n",
      "Root Mean Squared Error (RMSE): 3298.45\n",
      "R2 Score:  0.9787768109211448\n"
     ]
    }
   ],
   "source": [
    "from sklearn.ensemble import RandomForestRegressor\n",
    "from sklearn.metrics import r2_score\n",
    "\n",
    "rf_reg = RandomForestRegressor()\n",
    "rf_reg.fit(X6_train,y6_train)\n",
    "y6_pred = rf_reg.predict(X6_test)\n",
    "evaluate_model(y6_pred,y6_test)\n",
    "print(\"R2 Score: \",r2_score(y6_test,y6_pred))"
   ]
  },
  {
   "cell_type": "markdown",
   "metadata": {
    "id": "jQ-xsKamU7Rl"
   },
   "source": [
    "# F7 (Source & Destination city column excluded)"
   ]
  },
  {
   "cell_type": "code",
   "execution_count": 65,
   "metadata": {
    "id": "NlCwLv4TFvkK"
   },
   "outputs": [
    {
     "data": {
      "text/html": [
       "<div>\n",
       "<style scoped>\n",
       "    .dataframe tbody tr th:only-of-type {\n",
       "        vertical-align: middle;\n",
       "    }\n",
       "\n",
       "    .dataframe tbody tr th {\n",
       "        vertical-align: top;\n",
       "    }\n",
       "\n",
       "    .dataframe thead th {\n",
       "        text-align: right;\n",
       "    }\n",
       "</style>\n",
       "<table border=\"1\" class=\"dataframe\">\n",
       "  <thead>\n",
       "    <tr style=\"text-align: right;\">\n",
       "      <th></th>\n",
       "      <th>Unnamed: 0</th>\n",
       "      <th>airline</th>\n",
       "      <th>flight</th>\n",
       "      <th>departure_time</th>\n",
       "      <th>stops</th>\n",
       "      <th>arrival_time</th>\n",
       "      <th>class</th>\n",
       "      <th>duration</th>\n",
       "      <th>days_left</th>\n",
       "      <th>price</th>\n",
       "    </tr>\n",
       "  </thead>\n",
       "  <tbody>\n",
       "    <tr>\n",
       "      <th>0</th>\n",
       "      <td>0</td>\n",
       "      <td>4</td>\n",
       "      <td>1408</td>\n",
       "      <td>2</td>\n",
       "      <td>2</td>\n",
       "      <td>5</td>\n",
       "      <td>1</td>\n",
       "      <td>2.17</td>\n",
       "      <td>1</td>\n",
       "      <td>5953</td>\n",
       "    </tr>\n",
       "    <tr>\n",
       "      <th>1</th>\n",
       "      <td>1</td>\n",
       "      <td>4</td>\n",
       "      <td>1387</td>\n",
       "      <td>1</td>\n",
       "      <td>2</td>\n",
       "      <td>4</td>\n",
       "      <td>1</td>\n",
       "      <td>2.33</td>\n",
       "      <td>1</td>\n",
       "      <td>5953</td>\n",
       "    </tr>\n",
       "    <tr>\n",
       "      <th>2</th>\n",
       "      <td>2</td>\n",
       "      <td>0</td>\n",
       "      <td>1213</td>\n",
       "      <td>1</td>\n",
       "      <td>2</td>\n",
       "      <td>1</td>\n",
       "      <td>1</td>\n",
       "      <td>2.17</td>\n",
       "      <td>1</td>\n",
       "      <td>5956</td>\n",
       "    </tr>\n",
       "    <tr>\n",
       "      <th>3</th>\n",
       "      <td>3</td>\n",
       "      <td>5</td>\n",
       "      <td>1559</td>\n",
       "      <td>4</td>\n",
       "      <td>2</td>\n",
       "      <td>0</td>\n",
       "      <td>1</td>\n",
       "      <td>2.25</td>\n",
       "      <td>1</td>\n",
       "      <td>5955</td>\n",
       "    </tr>\n",
       "    <tr>\n",
       "      <th>4</th>\n",
       "      <td>4</td>\n",
       "      <td>5</td>\n",
       "      <td>1549</td>\n",
       "      <td>4</td>\n",
       "      <td>2</td>\n",
       "      <td>4</td>\n",
       "      <td>1</td>\n",
       "      <td>2.33</td>\n",
       "      <td>1</td>\n",
       "      <td>5955</td>\n",
       "    </tr>\n",
       "  </tbody>\n",
       "</table>\n",
       "</div>"
      ],
      "text/plain": [
       "   Unnamed: 0  airline  flight  departure_time  stops  arrival_time  class  \\\n",
       "0           0        4    1408               2      2             5      1   \n",
       "1           1        4    1387               1      2             4      1   \n",
       "2           2        0    1213               1      2             1      1   \n",
       "3           3        5    1559               4      2             0      1   \n",
       "4           4        5    1549               4      2             4      1   \n",
       "\n",
       "   duration  days_left  price  \n",
       "0      2.17          1   5953  \n",
       "1      2.33          1   5953  \n",
       "2      2.17          1   5956  \n",
       "3      2.25          1   5955  \n",
       "4      2.33          1   5955  "
      ]
     },
     "execution_count": 65,
     "metadata": {},
     "output_type": "execute_result"
    }
   ],
   "source": [
    "dfbackup7 = dfprice.copy()\n",
    "\n",
    "dfbackup7.drop(['source_city'], axis = 1, inplace=True)\n",
    "dfbackup7.drop(['destination_city'], axis = 1, inplace=True)\n",
    "\n",
    "from sklearn.preprocessing import LabelEncoder\n",
    "le = LabelEncoder()\n",
    "for col in dfbackup7.columns:\n",
    "    if dfbackup7[col].dtype == 'object':\n",
    "        dfbackup7[col] = le.fit_transform(dfbackup7[col])\n",
    "        \n",
    "dfbackup7.head()"
   ]
  },
  {
   "cell_type": "code",
   "execution_count": 66,
   "metadata": {
    "id": "DyVT7PSRGk5y"
   },
   "outputs": [],
   "source": [
    "x7 = dfbackup7.drop(['price'], axis = 1)\n",
    "y7 = dfbackup7['price']"
   ]
  },
  {
   "cell_type": "code",
   "execution_count": 67,
   "metadata": {
    "id": "c5un8hsdHmT_"
   },
   "outputs": [
    {
     "data": {
      "text/plain": [
       "((210107, 9), (210107,), (90046, 9), (90046,))"
      ]
     },
     "execution_count": 67,
     "metadata": {},
     "output_type": "execute_result"
    }
   ],
   "source": [
    "from sklearn.model_selection import train_test_split\n",
    "x7_train, x7_test, y7_train, y7_test = train_test_split(x7, y7, test_size = 0.30, random_state = 42)\n",
    "x7_train.shape, y7_train.shape, x7_test.shape, y7_test.shape"
   ]
  },
  {
   "cell_type": "code",
   "execution_count": 68,
   "metadata": {
    "id": "60cMhZF2IMX6"
   },
   "outputs": [],
   "source": [
    "from sklearn.preprocessing import MinMaxScaler\n",
    "mmscaler = MinMaxScaler(feature_range = (0, 1))\n",
    "x7_train = mmscaler.fit_transform(x7_train)\n",
    "x7_test = mmscaler.fit_transform(x7_test)\n",
    "x7_train = pd.DataFrame(x7_train)\n",
    "x7_test = pd.DataFrame(x7_test)"
   ]
  },
  {
   "cell_type": "code",
   "execution_count": 69,
   "metadata": {
    "id": "zYNH0SnHOc5o"
   },
   "outputs": [
    {
     "name": "stdout",
     "output_type": "stream",
     "text": [
      "Nama model LinearRegression()\n",
      "Mean Absolute Error (MAE):  4626.617\n",
      "Mean Squared Error (MSE):  49114146.545\n",
      "Root Mean Squared Error (RMSE):  7008.149\n",
      "R2 Score:  0.90457\n",
      "Root Mean Squared Log Error (RMSLE):  8.855\n",
      "Mean Absolute Percentage Error (MAPE):  43.83 %\n",
      "Adjusted R Square:  0.904568\n",
      "-------------------------------------------------------------------------\n"
     ]
    },
    {
     "name": "stderr",
     "output_type": "stream",
     "text": [
      "/var/folders/zn/s1_n07kn17g1_nt548vj1tp40000gn/T/ipykernel_46319/3112261970.py:49: FutureWarning: The frame.append method is deprecated and will be removed from pandas in a future version. Use pandas.concat instead.\n",
      "  results = results.append(new_row, ignore_index = True)\n"
     ]
    }
   ],
   "source": [
    "#Pembuatan model regresi\n",
    "from sklearn.linear_model import LinearRegression\n",
    "modelmlg = LinearRegression()\n",
    "\n",
    "# Evaluasi Matrix dari setiap model\n",
    "MM = [modelmlg]\n",
    "for model in MM:\n",
    "    \n",
    "    # fitting model\n",
    "    model.fit(x7_train, y7_train)\n",
    "    \n",
    "    # model prediksi dengan data testing\n",
    "    y7_pred = model.predict(x7_test)\n",
    "    \n",
    "    # print nama model\n",
    "    print('Nama model', model)\n",
    "    \n",
    "    # Metrics Evaluasi terhadap model yang digunakan\n",
    "    \n",
    "    from sklearn import metrics\n",
    "    print('Mean Absolute Error (MAE): ', round(metrics.mean_absolute_error(y7_test, y7_pred), 3))\n",
    "    print('Mean Squared Error (MSE): ', round(metrics.mean_squared_error(y7_test, y7_pred), 3))\n",
    "    print('Root Mean Squared Error (RMSE): ', round(np.sqrt(metrics.mean_squared_error(y7_test, y7_pred)), 3))\n",
    "    print('R2 Score: ', round(metrics.r2_score(y7_test, y7_pred), 5))\n",
    "    print('Root Mean Squared Log Error (RMSLE): ', round(np.log(np.sqrt(metrics.mean_squared_error(y7_test, y7_pred))), 3))\n",
    "    \n",
    "    # Fungsi untuk menghitung MAPE - Mean Absolute Percentage Error\n",
    "    def MAPE(y7_test, y7_pred):\n",
    "        y7_test, y7_pred = np.array(y7_test), np.array(y7_pred)\n",
    "        return np.mean(np.abs((y7_test - y7_pred) / y7_test)) * 100\n",
    "    \n",
    "    # EvaluasiMAPE\n",
    "    result = MAPE(y7_test, y7_pred)\n",
    "    print('Mean Absolute Percentage Error (MAPE): ', round(result, 2), '%')\n",
    "    \n",
    "    # Nilai R Squared values\n",
    "    r_squared = round(metrics.r2_score(y7_test, y7_pred), 6)\n",
    "    adjusted_r_squared = round(1-(1-r_squared)*(len(y7)-1) / (len(y7)-x7.shape[1]-1), 6)\n",
    "    print('Adjusted R Square: ', adjusted_r_squared)\n",
    "    print(\"-------------------------------------------------------------------------\")\n",
    "    new_row = {'Nama Model' : model,\n",
    "             'Mean_Absolute_Error_MAE' : metrics.mean_absolute_error(y7_test, y7_pred),\n",
    "             'Adj_R_Square' : adjusted_r_squared,\n",
    "             'Root_Mean_Squared_Error_RMSE' : np.sqrt(metrics.mean_squared_error(y7_test, y7_pred)),\n",
    "             'Mean_Absolute_Percentage_Error_MAPE' : MAPE(y7_test, y7_pred),\n",
    "             'Mean_Squared_Error_MSE' : metrics.mean_squared_error(y7_test, y7_pred),\n",
    "             'Root_Mean_Squared_Log_Error_RMSLE' : np.log(np.sqrt(metrics.mean_squared_error(y7_test, y7_pred))),\n",
    "             'R2_Score' : metrics.r2_score(y7_test, y7_pred)}\n",
    "    results = results.append(new_row, ignore_index = True)"
   ]
  },
  {
   "cell_type": "code",
   "execution_count": 70,
   "metadata": {
    "id": "NqOYyzGLVhMp"
   },
   "outputs": [],
   "source": [
    "x7 = x7[[\"airline\", \"departure_time\", \"stops\", 'arrival_time', \"class\", 'days_left', 'duration']]\n",
    "X7_train, X7_test, y7_train, y7_test = train_test_split(x7, y7, test_size=0.20)\n",
    "from sklearn.preprocessing import MinMaxScaler\n",
    "mmscaler = MinMaxScaler(feature_range=(0,1))\n",
    "X7_train = mmscaler.fit_transform(X7_train)\n",
    "X7_test = mmscaler.fit_transform(X7_test)\n",
    "X7_train = pd.DataFrame(X7_train)\n",
    "X7_test = pd.DataFrame(X7_test) "
   ]
  },
  {
   "cell_type": "code",
   "execution_count": 71,
   "metadata": {
    "id": "RZr-yZQjVwXg"
   },
   "outputs": [],
   "source": [
    "from sklearn import metrics\n",
    "def evaluate_model(y7_pred,y7_test):\n",
    "    print('Mean Absolute Error (MAE):', round(metrics.mean_absolute_error(y7_test, y7_pred),3))  \n",
    "    print('Root Mean Squared Error (RMSE):', round(np.sqrt(metrics.mean_squared_error(y7_test, y7_pred)),3))"
   ]
  },
  {
   "cell_type": "code",
   "execution_count": 72,
   "metadata": {
    "id": "IcFVr_vfVy6K"
   },
   "outputs": [
    {
     "name": "stdout",
     "output_type": "stream",
     "text": [
      "Mean Absolute Error (MAE): 3583.561\n",
      "Root Mean Squared Error (RMSE): 6206.436\n",
      "R2 Score:  0.9247162252759394\n"
     ]
    }
   ],
   "source": [
    "from sklearn.ensemble import RandomForestRegressor\n",
    "from sklearn.metrics import r2_score\n",
    "\n",
    "rf_reg = RandomForestRegressor()\n",
    "rf_reg.fit(X7_train,y7_train)\n",
    "y7_pred = rf_reg.predict(X7_test)\n",
    "evaluate_model(y7_pred,y7_test)\n",
    "print(\"R2 Score: \",r2_score(y7_test,y7_pred))"
   ]
  }
 ],
 "metadata": {
  "colab": {
   "collapsed_sections": [
    "l3duxiXGPaaZ",
    "3uZ9UcMmPq8s"
   ],
   "provenance": []
  },
  "kernelspec": {
   "display_name": "Python 3 (ipykernel)",
   "language": "python",
   "name": "python3"
  },
  "language_info": {
   "codemirror_mode": {
    "name": "ipython",
    "version": 3
   },
   "file_extension": ".py",
   "mimetype": "text/x-python",
   "name": "python",
   "nbconvert_exporter": "python",
   "pygments_lexer": "ipython3",
   "version": "3.9.12"
  }
 },
 "nbformat": 4,
 "nbformat_minor": 1
}
